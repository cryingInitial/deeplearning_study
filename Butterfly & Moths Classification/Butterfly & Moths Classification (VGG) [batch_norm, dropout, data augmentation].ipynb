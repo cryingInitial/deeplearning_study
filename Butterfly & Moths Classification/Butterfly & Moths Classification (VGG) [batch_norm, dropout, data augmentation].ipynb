{
 "cells": [
  {
   "cell_type": "code",
   "execution_count": 1,
   "id": "d76d4294",
   "metadata": {},
   "outputs": [
    {
     "name": "stderr",
     "output_type": "stream",
     "text": [
      "/home/wonje/anaconda3/envs/ML/lib/python3.9/site-packages/tqdm/auto.py:22: TqdmWarning: IProgress not found. Please update jupyter and ipywidgets. See https://ipywidgets.readthedocs.io/en/stable/user_install.html\n",
      "  from .autonotebook import tqdm as notebook_tqdm\n"
     ]
    }
   ],
   "source": [
    "import os\n",
    "import cv2\n",
    "import numpy as np\n",
    "\n",
    "from time import time\n",
    "from tqdm import tqdm\n",
    "from collections import OrderedDict\n",
    "from matplotlib import pyplot as plt\n",
    "\n",
    "import torch\n",
    "import torch.nn as nn\n",
    "import torch.nn.functional as F\n",
    "from torch.utils.data import Dataset, RandomSampler, DataLoader\n",
    "from torch.utils.tensorboard import SummaryWriter\n",
    "from torch.nn import Linear, Conv2d, Flatten, MaxPool2d, BatchNorm2d, Dropout\n",
    "\n",
    "import torchvision.models as models\n",
    "from torchvision import transforms as T"
   ]
  },
  {
   "cell_type": "code",
   "execution_count": 2,
   "id": "40d40ce0",
   "metadata": {},
   "outputs": [],
   "source": [
    "DIR_TRAIN = \"./data/train\"\n",
    "DIR_VALID = \"./data/valid\"\n",
    "DIR_TEST = \"./data/test\""
   ]
  },
  {
   "cell_type": "code",
   "execution_count": 3,
   "id": "4d7f5e35",
   "metadata": {},
   "outputs": [
    {
     "name": "stdout",
     "output_type": "stream",
     "text": [
      "Total Classes:  100\n"
     ]
    }
   ],
   "source": [
    "classes = os.listdir(DIR_TRAIN)\n",
    "print(\"Total Classes: \",len(classes))\n",
    "\n",
    "train_count = 0\n",
    "valid_count = 0\n",
    "test_count = 0\n",
    "\n",
    "train_paths = []\n",
    "valid_paths = []\n",
    "test_paths = []\n",
    "\n",
    "for _class in classes:\n",
    "    for img in os.listdir(f\"{DIR_TRAIN}/{_class}\"):\n",
    "        train_paths.append(f\"{DIR_TRAIN}/{_class}/{img}\")\n",
    "        train_count += 1\n",
    "    for img in os.listdir(f\"{DIR_VALID}/{_class}\"):\n",
    "        valid_paths.append(f\"{DIR_VALID}/{_class}/{img}\")\n",
    "        valid_count += 1\n",
    "    for img in os.listdir(f\"{DIR_TEST}/{_class}\"):\n",
    "        test_paths.append(f\"{DIR_TEST}/{_class}/{img}\")\n",
    "        test_count += 1\n",
    "class_to_int = {classes[i]: i for i in range(len(classes))}\n"
   ]
  },
  {
   "cell_type": "code",
   "execution_count": 4,
   "id": "05b69958",
   "metadata": {},
   "outputs": [],
   "source": [
    "def getTransforms():\n",
    "    return T.Compose([T.ToTensor()])\n",
    "\n",
    "def getAugmentationTransforms():\n",
    "    return T.Compose([\n",
    "        T.ToTensor(),\n",
    "        T.RandomHorizontalFlip(),\n",
    "        T.RandomRotation([-20, 20]),\n",
    "    ])\n",
    "class ButterflyAndMothDataset(Dataset):\n",
    "    def __init__(self, imgs_list, class_to_int, transforms=None):\n",
    "        super().__init__()\n",
    "        self.imgs_list = imgs_list\n",
    "        self.class_to_int = class_to_int\n",
    "        self.transforms = transforms\n",
    "        \n",
    "    def __getitem__(self, idx):\n",
    "        img_path = self.imgs_list[idx]\n",
    "        img = cv2.imread(img_path, cv2.IMREAD_COLOR)\n",
    "        img = cv2.cvtColor(img, cv2.COLOR_BGR2RGB).astype(np.float32)\n",
    "        img /= 255.\n",
    "        \n",
    "        label = img_path.split(\"/\")[-2]\n",
    "        label = self.class_to_int[label]\n",
    "        \n",
    "        if self.transforms != None:\n",
    "            img = self.transforms(img)\n",
    "            \n",
    "        return img, label\n",
    "    \n",
    "    def __len__(self):\n",
    "        return len(self.imgs_list)"
   ]
  },
  {
   "cell_type": "code",
   "execution_count": 5,
   "id": "0e04ec42",
   "metadata": {},
   "outputs": [],
   "source": [
    "def create_data_set(isAug=False):\n",
    "    train_dataset, valid_dataset, test_dataset = None, None, None\n",
    "    if isAug:\n",
    "        train_dataset = ButterflyAndMothDataset(train_paths, class_to_int, getAugmentationTransforms())\n",
    "        valid_dataset = ButterflyAndMothDataset(valid_paths, class_to_int, getAugmentationTransforms())\n",
    "        test_dataset = ButterflyAndMothDataset(test_paths, class_to_int, getAugmentationTransforms())\n",
    "    else:\n",
    "        train_dataset = ButterflyAndMothDataset(train_paths, class_to_int, getTransforms())\n",
    "        valid_dataset = ButterflyAndMothDataset(valid_paths, class_to_int, getTransforms())\n",
    "        test_dataset = ButterflyAndMothDataset(test_paths, class_to_int, getTransforms())\n",
    "    \n",
    "    train_random_sampler = RandomSampler(train_dataset)\n",
    "    valid_random_sampler = RandomSampler(valid_dataset)\n",
    "    test_random_sampler = RandomSampler(test_dataset)\n",
    "\n",
    "    train_data_loader = DataLoader(\n",
    "    dataset=train_dataset,\n",
    "    batch_size=64,\n",
    "    sampler=train_random_sampler\n",
    "    )\n",
    "    valid_data_loader = DataLoader(\n",
    "        dataset=valid_dataset,\n",
    "        batch_size=64,\n",
    "        sampler=valid_random_sampler\n",
    "    )\n",
    "    test_data_loader = DataLoader(\n",
    "        dataset=test_dataset,\n",
    "        batch_size=50,\n",
    "        sampler=test_random_sampler\n",
    "    )\n",
    "    return train_data_loader, valid_data_loader, test_data_loader"
   ]
  },
  {
   "cell_type": "code",
   "execution_count": 6,
   "id": "7ab08a74",
   "metadata": {},
   "outputs": [],
   "source": [
    "class FeatureExtractor(nn.Module):\n",
    "    def __init__(self, n_layer, start_channel, n_channel, is_batch=True):\n",
    "        super(FeatureExtractor, self).__init__()\n",
    "        \n",
    "        self.n_layer = n_layer\n",
    "        self.n_channel = n_channel\n",
    "        self.layers = nn.ModuleList()\n",
    "        self.is_batch = is_batch\n",
    "        \n",
    "        ### conv layers\n",
    "        \n",
    "        # First layer (channel converting)\n",
    "        self.layers.append(Conv2d(start_channel, n_channel, (3,3), padding='same'))\n",
    "        if is_batch:\n",
    "            self.layers.append(BatchNorm2d(self.n_channel))\n",
    "            \n",
    "        # Layers\n",
    "        for i in range(n_layer-1):\n",
    "            self.layers.append(Conv2d(n_channel, n_channel, (3,3), padding='same'))\n",
    "            if is_batch:\n",
    "                self.layers.append(BatchNorm2d(self.n_channel))\n",
    "                \n",
    "        # MaxPooling\n",
    "        self.layers.append(nn.MaxPool2d((2,2)))\n",
    "        \n",
    "\n",
    "    def forward(self, x):\n",
    "        \n",
    "        for layer in self.layers[:-1]:\n",
    "            if isinstance(layer, Conv2d):\n",
    "                x = F.relu(layer(x))\n",
    "            elif isinstance(layer, BatchNorm2d):\n",
    "                x = layer(x)\n",
    "            \n",
    "        return self.layers[-1](x)\n",
    "    \n",
    "    def getName(self, number):\n",
    "        return f\"feature_extract_{number} ({self.n_channel})\"\n",
    "    \n",
    "    \n",
    "class Classifier(nn.Module):\n",
    "    def __init__(self, is_dropout=False):\n",
    "        super(Classifier, self).__init__()\n",
    "        \n",
    "        self.is_dropout = is_dropout\n",
    "        \n",
    "        self.dropout_1 = Dropout(0.4)\n",
    "        self.fc_1 = nn.Linear(25088, 4096, bias=True)\n",
    "        self.dropout_2 = Dropout(0.4)\n",
    "        self.fc_2 = nn.Linear(4096, 4096, bias=True)\n",
    "        self.classifier = nn.Linear(4096, 100, bias=False)\n",
    "        \n",
    "    def forward(self, x):\n",
    "        x = Flatten()(x)\n",
    "        if self.is_dropout:\n",
    "            x = self.dropout_1(x)\n",
    "        x = F.relu(self.fc_1(x))\n",
    "        if self.is_dropout:\n",
    "            x = self.dropout_2(x)\n",
    "        x = F.relu(self.fc_2(x))\n",
    "        return self.classifier(x)\n"
   ]
  },
  {
   "cell_type": "code",
   "execution_count": 7,
   "id": "839c246f",
   "metadata": {},
   "outputs": [],
   "source": [
    "def create_vgg11_model(is_batch=False, is_dropout=False):\n",
    "    \n",
    "    VGG11 = nn.Sequential(OrderedDict([\n",
    "    ('block_1', FeatureExtractor(1, 3, 64, is_batch=is_batch)),\n",
    "    ('block_2', FeatureExtractor(1, 64, 128, is_batch=is_batch)),\n",
    "    ('block_3', FeatureExtractor(2, 128, 256, is_batch=is_batch)),\n",
    "    ('block_4', FeatureExtractor(2, 256, 512, is_batch=is_batch)),\n",
    "    ('block_5', FeatureExtractor(2, 512, 512, is_batch=is_batch)),\n",
    "    ('classifier', Classifier(is_dropout=is_dropout))\n",
    "    ]))\n",
    "    \n",
    "    return VGG11\n",
    " \n",
    "def create_vgg16_model(is_batch=False, is_dropout=False):\n",
    "    \n",
    "    VGG16 = nn.Sequential(OrderedDict([\n",
    "    ('block_1', FeatureExtractor(2, 3, 64, is_batch=is_batch)),\n",
    "    ('block_2', FeatureExtractor(2, 64, 128, is_batch=is_batch)),\n",
    "    ('block_3', FeatureExtractor(3, 128, 256, is_batch=is_batch)),\n",
    "    ('block_4', FeatureExtractor(3, 256, 512, is_batch=is_batch)),\n",
    "    ('block_5', FeatureExtractor(3, 512, 512, is_batch=is_batch)),\n",
    "    ('classifier', Classifier(is_dropout=is_dropout))\n",
    "    ]))\n",
    "    \n",
    "    return VGG16    \n",
    "\n",
    "def create_vgg19_model(is_batch=False, is_dropout=False):\n",
    "    \n",
    "    VGG19 = nn.Sequential(OrderedDict([\n",
    "    ('block_1', FeatureExtractor(2, 3, 64, is_batch=is_batch)),\n",
    "    ('block_2', FeatureExtractor(2, 64, 128, is_batch=is_batch)),\n",
    "    ('block_3', FeatureExtractor(4, 128, 256, is_batch=is_batch)),\n",
    "    ('block_4', FeatureExtractor(4, 256, 512, is_batch=is_batch)),\n",
    "    ('block_5', FeatureExtractor(4, 512, 512, is_batch=is_batch)),\n",
    "    ('classifier', Classifier(is_dropout=is_dropout))\n",
    "    ]))\n",
    "    \n",
    "    return VGG19"
   ]
  },
  {
   "cell_type": "code",
   "execution_count": 8,
   "id": "1e38a616",
   "metadata": {},
   "outputs": [],
   "source": [
    "def create_model_details(model, epochs, lr=1e-2, criterion=nn.CrossEntropyLoss()):\n",
    "\n",
    "    device = torch.device('cuda') if torch.cuda.is_available() else torch.device('cpu')\n",
    "    torch.cuda.empty_cache()\n",
    "\n",
    "    model.to(device)\n",
    "    optimizer = torch.optim.Adam(model.parameters(), lr=lr)\n",
    "    lr_scheduler = torch.optim.lr_scheduler.StepLR(optimizer, step_size=5, gamma=.9)\n",
    "    criterion = criterion\n",
    "    \n",
    "    return {\n",
    "        'model': model,\n",
    "        'optimizer': optimizer,\n",
    "        'lr_scheduler': lr_scheduler,\n",
    "        'criterion': criterion,\n",
    "        'epochs': epochs,\n",
    "        'device': device,\n",
    "    }\n",
    "\n",
    "def calc_accuracy(true,pred):\n",
    "    pred = F.softmax(pred, dim = 1)\n",
    "    true = torch.zeros(pred.shape[0], pred.shape[1]).scatter_(1, true.unsqueeze(1), 1)\n",
    "    acc = (true.argmax(-1) == pred.argmax(-1)).float().detach().numpy()\n",
    "    acc = float((100 * acc.sum()) / len(acc))\n",
    "    return round(acc, 4)"
   ]
  },
  {
   "cell_type": "code",
   "execution_count": 9,
   "id": "5cfa9c88",
   "metadata": {},
   "outputs": [],
   "source": [
    "def train_model(model_details, model_name):\n",
    "    \n",
    "    model = model_details['model']\n",
    "    device = model_details['device']\n",
    "    optimizer = model_details['optimizer']\n",
    "    lr_scheduler = model_details['lr_scheduler']\n",
    "    criterion = model_details['criterion']\n",
    "    epochs = model_details['epochs']\n",
    "    \n",
    "    train_loss = []\n",
    "    train_acc = []\n",
    "    \n",
    "    val_loss = []\n",
    "    val_acc = []\n",
    "    \n",
    "    writer_train = SummaryWriter(f\"./runs/{model_name}/train\")\n",
    "    writer_val = SummaryWriter(f\"./runs/{model_name}/val\")\n",
    "    \n",
    "    for epoch in range(epochs):\n",
    "\n",
    "        start = time()\n",
    "\n",
    "        train_epoch_loss = []\n",
    "        train_epoch_acc = []\n",
    "\n",
    "        val_epoch_loss = []\n",
    "        val_epoch_acc = []\n",
    "\n",
    "        # Training\n",
    "        for images, labels in tqdm(train_data_loader):\n",
    "\n",
    "            images = images.to(device)\n",
    "            labels = labels.to(device)\n",
    "\n",
    "            # Reset Grads\n",
    "            optimizer.zero_grad()\n",
    "\n",
    "            # Forward\n",
    "            y_hat = model(images)\n",
    "\n",
    "            # Calculate Acc\n",
    "            train_epoch_acc.append(calc_accuracy(labels.cpu(), y_hat.cpu()))\n",
    "\n",
    "            # Backward\n",
    "            loss = criterion(y_hat, labels)\n",
    "            loss.backward()\n",
    "            optimizer.step()\n",
    "\n",
    "            train_epoch_loss.append(loss.item())\n",
    "\n",
    "        # Validation\n",
    "        for images, labels in tqdm(valid_data_loader):\n",
    "\n",
    "            images = images.to(device)\n",
    "            labels = labels.to(device)\n",
    "\n",
    "            y_hat = model(images)\n",
    "\n",
    "            val_epoch_acc.append(calc_accuracy(labels.cpu(), y_hat.cpu()))\n",
    "            val_epoch_loss.append(criterion(y_hat, labels).item())\n",
    "\n",
    "        train_epoch_loss = np.mean(train_epoch_loss)\n",
    "        train_epoch_acc = np.mean(train_epoch_acc)\n",
    "        val_epoch_loss = np.mean(val_epoch_loss)\n",
    "        val_epoch_acc = np.mean(val_epoch_acc)\n",
    "        \n",
    "        writer_train.add_scalar(\"Loss\", train_epoch_loss, epoch+1)    \n",
    "        writer_train.add_scalar(\"Accuracy\", train_epoch_acc, epoch+1)\n",
    "        writer_val.add_scalar(\"Loss\", val_epoch_loss, epoch+1)\n",
    "        writer_val.add_scalar(\"Accuracy\", val_epoch_acc, epoch+1)\n",
    "        \n",
    "        train_loss.append(train_epoch_loss)\n",
    "        train_acc.append(train_epoch_acc)\n",
    "        val_loss.append(val_epoch_loss)\n",
    "        val_acc.append(val_epoch_acc)\n",
    "\n",
    "        end = time()\n",
    "\n",
    "        print(\"** Epoch {} ** - Epoch Time {}\".format(epoch, int(end-start)))\n",
    "        print(\"Train Loss = {}\".format(round(train_epoch_loss, 4)))\n",
    "        print(\"Train Accuracy = {} % \\n\".format(train_epoch_acc))\n",
    "        print(\"Val Loss = {}\".format(round(val_epoch_loss, 4)))\n",
    "        print(\"Val Accuracy = {} % \\n\".format(val_epoch_acc))\n",
    "    \n",
    "    \n",
    "    writer_train.close()\n",
    "    writer_val.close()\n",
    "    \n",
    "    return {\n",
    "        'model': model,\n",
    "        'device': device,\n",
    "        'epochs': epochs,\n",
    "        'train_loss': train_loss,\n",
    "        'train_acc': train_acc,\n",
    "        'val_loss': val_loss,\n",
    "        'val_acc': val_acc,\n",
    "    }"
   ]
  },
  {
   "cell_type": "code",
   "execution_count": 19,
   "id": "62864638",
   "metadata": {},
   "outputs": [],
   "source": [
    "def test_model(model, device, model_name, epochs):\n",
    "    test_writer = SummaryWriter(f\"./runs/{model_name}/test\")\n",
    "    \n",
    "    counter = 0\n",
    "    acc = 0\n",
    "    model.eval()\n",
    "    for images, labels in tqdm(test_data_loader):\n",
    "        \n",
    "        images = images.to(device)\n",
    "        labels = labels.to(device)\n",
    "        \n",
    "        counter += 1\n",
    "        y_hat = model(images)\n",
    "        acc += calc_accuracy(labels.cpu(), y_hat.cpu())\n",
    "    \n",
    "    acc /= counter\n",
    "    test_writer.add_scalar(\"Accuracy\", acc, epochs)\n",
    "    test_writer.close()\n",
    "    \n",
    "    return round(acc, 2)\n",
    "\n",
    "def show_result(result, model_name):\n",
    "    \n",
    "    model = result['model']\n",
    "    device = result['device']\n",
    "    epochs = result['epochs']\n",
    "    train_loss = result['train_loss']\n",
    "    train_acc = result['train_acc']\n",
    "    val_loss = result['val_loss']\n",
    "    val_acc = result['val_acc']\n",
    "    \n",
    "    test_acc = test_model(model, device, model_name, epochs)\n",
    "    \n",
    "    plt.subplot(1,2,1)\n",
    "    plt.plot(train_loss, 'g', label='train')\n",
    "    plt.plot(val_loss, 'b', label='loss')\n",
    "    plt.title(\"Loss\")\n",
    "    plt.legend()\n",
    "\n",
    "    plt.subplot(1,2,2)\n",
    "    plt.plot(train_acc)\n",
    "    plt.plot(val_acc)\n",
    "    plt.title(\"Accruacy\")\n",
    "    plt.legend()\n",
    "    \n",
    "    plt.show()\n",
    "    \n",
    "    print(f\"train acc: {round(train_acc[-1], 2)}\")\n",
    "    print(f\"valid acc: {round(val_acc[-1], 2)}\")\n",
    "    print(f\"test acc: {round(test_acc, 2)}\")"
   ]
  },
  {
   "cell_type": "markdown",
   "id": "7098b537",
   "metadata": {},
   "source": [
    "VGG_A with no batch, no dropout, no data aug \\\n",
    "VGG_A with batch, no dropout, no data aug \\\n",
    "VGG_A with batch, dropout, no data aug \\\n",
    "VGG_A with batch, dropout, data aug\n",
    "\n",
    "VGG_D with batch, dropout, data aug \\\n",
    "VGG_E with batch, dropout, data aug"
   ]
  },
  {
   "cell_type": "markdown",
   "id": "4c90fb20",
   "metadata": {},
   "source": [
    "Overfitting has occurred even if model is not that big... \\\n",
    "So we are gonna try three steps to solve this problem.\n",
    "\n",
    "1) Batch Normalization \\\n",
    "2) Data augmentation \\\n",
    "3) Dropout\n",
    "\n",
    "모델 크기 키움 -> 느려지고 학습하는데 오래 걸림 \\\n",
    "- [논문 참고](https://arxiv.org/pdf/1409.1556v6.pdf)\n",
    "- [Pytorch Sequential](https://pytorch.org/docs/stable/generated/torch.nn.Sequential.html)"
   ]
  },
  {
   "cell_type": "markdown",
   "id": "b839dfd0",
   "metadata": {},
   "source": [
    "### Batch Normalization\n",
    "- Affine transformation\n",
    "##### Pre-activation\n",
    "\n",
    "##### Post-activation"
   ]
  },
  {
   "cell_type": "code",
   "execution_count": 11,
   "id": "5ea0e863",
   "metadata": {},
   "outputs": [
    {
     "name": "stderr",
     "output_type": "stream",
     "text": [
      "2023-01-05 05:52:47.937549: I tensorflow/stream_executor/platform/default/dso_loader.cc:49] Successfully opened dynamic library libcudart.so.10.1\n",
      "  6%|██▌                                       | 12/198 [00:02<00:45,  4.06it/s]\n"
     ]
    },
    {
     "ename": "KeyboardInterrupt",
     "evalue": "",
     "output_type": "error",
     "traceback": [
      "\u001b[0;31m---------------------------------------------------------------------------\u001b[0m",
      "\u001b[0;31mKeyboardInterrupt\u001b[0m                         Traceback (most recent call last)",
      "Cell \u001b[0;32mIn[11], line 5\u001b[0m\n\u001b[1;32m      3\u001b[0m VGG11 \u001b[38;5;241m=\u001b[39m create_vgg11_model(is_batch\u001b[38;5;241m=\u001b[39m\u001b[38;5;28;01mFalse\u001b[39;00m, is_dropout\u001b[38;5;241m=\u001b[39m \u001b[38;5;28;01mFalse\u001b[39;00m)\n\u001b[1;32m      4\u001b[0m details \u001b[38;5;241m=\u001b[39m create_model_details(VGG11, \u001b[38;5;241m50\u001b[39m, lr\u001b[38;5;241m=\u001b[39m\u001b[38;5;241m1e-4\u001b[39m)\n\u001b[0;32m----> 5\u001b[0m result \u001b[38;5;241m=\u001b[39m \u001b[43mtrain_model\u001b[49m\u001b[43m(\u001b[49m\u001b[43mdetails\u001b[49m\u001b[43m,\u001b[49m\u001b[43m \u001b[49m\u001b[38;5;124;43m\"\u001b[39;49m\u001b[38;5;124;43mVGG11\u001b[39;49m\u001b[38;5;124;43m\"\u001b[39;49m\u001b[43m)\u001b[49m\n\u001b[1;32m      6\u001b[0m show_result(result, \u001b[38;5;124m\"\u001b[39m\u001b[38;5;124mVGG11\u001b[39m\u001b[38;5;124m\"\u001b[39m)\n",
      "Cell \u001b[0;32mIn[9], line 30\u001b[0m, in \u001b[0;36mtrain_model\u001b[0;34m(model_details, model_name)\u001b[0m\n\u001b[1;32m     27\u001b[0m val_epoch_acc \u001b[38;5;241m=\u001b[39m []\n\u001b[1;32m     29\u001b[0m \u001b[38;5;66;03m# Training\u001b[39;00m\n\u001b[0;32m---> 30\u001b[0m \u001b[38;5;28;01mfor\u001b[39;00m images, labels \u001b[38;5;129;01min\u001b[39;00m tqdm(train_data_loader):\n\u001b[1;32m     32\u001b[0m     images \u001b[38;5;241m=\u001b[39m images\u001b[38;5;241m.\u001b[39mto(device)\n\u001b[1;32m     33\u001b[0m     labels \u001b[38;5;241m=\u001b[39m labels\u001b[38;5;241m.\u001b[39mto(device)\n",
      "File \u001b[0;32m~/anaconda3/envs/ML/lib/python3.9/site-packages/tqdm/std.py:1195\u001b[0m, in \u001b[0;36mtqdm.__iter__\u001b[0;34m(self)\u001b[0m\n\u001b[1;32m   1192\u001b[0m time \u001b[38;5;241m=\u001b[39m \u001b[38;5;28mself\u001b[39m\u001b[38;5;241m.\u001b[39m_time\n\u001b[1;32m   1194\u001b[0m \u001b[38;5;28;01mtry\u001b[39;00m:\n\u001b[0;32m-> 1195\u001b[0m     \u001b[38;5;28;01mfor\u001b[39;00m obj \u001b[38;5;129;01min\u001b[39;00m iterable:\n\u001b[1;32m   1196\u001b[0m         \u001b[38;5;28;01myield\u001b[39;00m obj\n\u001b[1;32m   1197\u001b[0m         \u001b[38;5;66;03m# Update and possibly print the progressbar.\u001b[39;00m\n\u001b[1;32m   1198\u001b[0m         \u001b[38;5;66;03m# Note: does not call self.update(1) for speed optimisation.\u001b[39;00m\n",
      "File \u001b[0;32m~/anaconda3/envs/ML/lib/python3.9/site-packages/torch/utils/data/dataloader.py:628\u001b[0m, in \u001b[0;36m_BaseDataLoaderIter.__next__\u001b[0;34m(self)\u001b[0m\n\u001b[1;32m    625\u001b[0m \u001b[38;5;28;01mif\u001b[39;00m \u001b[38;5;28mself\u001b[39m\u001b[38;5;241m.\u001b[39m_sampler_iter \u001b[38;5;129;01mis\u001b[39;00m \u001b[38;5;28;01mNone\u001b[39;00m:\n\u001b[1;32m    626\u001b[0m     \u001b[38;5;66;03m# TODO(https://github.com/pytorch/pytorch/issues/76750)\u001b[39;00m\n\u001b[1;32m    627\u001b[0m     \u001b[38;5;28mself\u001b[39m\u001b[38;5;241m.\u001b[39m_reset()  \u001b[38;5;66;03m# type: ignore[call-arg]\u001b[39;00m\n\u001b[0;32m--> 628\u001b[0m data \u001b[38;5;241m=\u001b[39m \u001b[38;5;28;43mself\u001b[39;49m\u001b[38;5;241;43m.\u001b[39;49m\u001b[43m_next_data\u001b[49m\u001b[43m(\u001b[49m\u001b[43m)\u001b[49m\n\u001b[1;32m    629\u001b[0m \u001b[38;5;28mself\u001b[39m\u001b[38;5;241m.\u001b[39m_num_yielded \u001b[38;5;241m+\u001b[39m\u001b[38;5;241m=\u001b[39m \u001b[38;5;241m1\u001b[39m\n\u001b[1;32m    630\u001b[0m \u001b[38;5;28;01mif\u001b[39;00m \u001b[38;5;28mself\u001b[39m\u001b[38;5;241m.\u001b[39m_dataset_kind \u001b[38;5;241m==\u001b[39m _DatasetKind\u001b[38;5;241m.\u001b[39mIterable \u001b[38;5;129;01mand\u001b[39;00m \\\n\u001b[1;32m    631\u001b[0m         \u001b[38;5;28mself\u001b[39m\u001b[38;5;241m.\u001b[39m_IterableDataset_len_called \u001b[38;5;129;01mis\u001b[39;00m \u001b[38;5;129;01mnot\u001b[39;00m \u001b[38;5;28;01mNone\u001b[39;00m \u001b[38;5;129;01mand\u001b[39;00m \\\n\u001b[1;32m    632\u001b[0m         \u001b[38;5;28mself\u001b[39m\u001b[38;5;241m.\u001b[39m_num_yielded \u001b[38;5;241m>\u001b[39m \u001b[38;5;28mself\u001b[39m\u001b[38;5;241m.\u001b[39m_IterableDataset_len_called:\n",
      "File \u001b[0;32m~/anaconda3/envs/ML/lib/python3.9/site-packages/torch/utils/data/dataloader.py:671\u001b[0m, in \u001b[0;36m_SingleProcessDataLoaderIter._next_data\u001b[0;34m(self)\u001b[0m\n\u001b[1;32m    669\u001b[0m \u001b[38;5;28;01mdef\u001b[39;00m \u001b[38;5;21m_next_data\u001b[39m(\u001b[38;5;28mself\u001b[39m):\n\u001b[1;32m    670\u001b[0m     index \u001b[38;5;241m=\u001b[39m \u001b[38;5;28mself\u001b[39m\u001b[38;5;241m.\u001b[39m_next_index()  \u001b[38;5;66;03m# may raise StopIteration\u001b[39;00m\n\u001b[0;32m--> 671\u001b[0m     data \u001b[38;5;241m=\u001b[39m \u001b[38;5;28;43mself\u001b[39;49m\u001b[38;5;241;43m.\u001b[39;49m\u001b[43m_dataset_fetcher\u001b[49m\u001b[38;5;241;43m.\u001b[39;49m\u001b[43mfetch\u001b[49m\u001b[43m(\u001b[49m\u001b[43mindex\u001b[49m\u001b[43m)\u001b[49m  \u001b[38;5;66;03m# may raise StopIteration\u001b[39;00m\n\u001b[1;32m    672\u001b[0m     \u001b[38;5;28;01mif\u001b[39;00m \u001b[38;5;28mself\u001b[39m\u001b[38;5;241m.\u001b[39m_pin_memory:\n\u001b[1;32m    673\u001b[0m         data \u001b[38;5;241m=\u001b[39m _utils\u001b[38;5;241m.\u001b[39mpin_memory\u001b[38;5;241m.\u001b[39mpin_memory(data, \u001b[38;5;28mself\u001b[39m\u001b[38;5;241m.\u001b[39m_pin_memory_device)\n",
      "File \u001b[0;32m~/anaconda3/envs/ML/lib/python3.9/site-packages/torch/utils/data/_utils/fetch.py:58\u001b[0m, in \u001b[0;36m_MapDatasetFetcher.fetch\u001b[0;34m(self, possibly_batched_index)\u001b[0m\n\u001b[1;32m     56\u001b[0m         data \u001b[38;5;241m=\u001b[39m \u001b[38;5;28mself\u001b[39m\u001b[38;5;241m.\u001b[39mdataset\u001b[38;5;241m.\u001b[39m__getitems__(possibly_batched_index)\n\u001b[1;32m     57\u001b[0m     \u001b[38;5;28;01melse\u001b[39;00m:\n\u001b[0;32m---> 58\u001b[0m         data \u001b[38;5;241m=\u001b[39m [\u001b[38;5;28mself\u001b[39m\u001b[38;5;241m.\u001b[39mdataset[idx] \u001b[38;5;28;01mfor\u001b[39;00m idx \u001b[38;5;129;01min\u001b[39;00m possibly_batched_index]\n\u001b[1;32m     59\u001b[0m \u001b[38;5;28;01melse\u001b[39;00m:\n\u001b[1;32m     60\u001b[0m     data \u001b[38;5;241m=\u001b[39m \u001b[38;5;28mself\u001b[39m\u001b[38;5;241m.\u001b[39mdataset[possibly_batched_index]\n",
      "File \u001b[0;32m~/anaconda3/envs/ML/lib/python3.9/site-packages/torch/utils/data/_utils/fetch.py:58\u001b[0m, in \u001b[0;36m<listcomp>\u001b[0;34m(.0)\u001b[0m\n\u001b[1;32m     56\u001b[0m         data \u001b[38;5;241m=\u001b[39m \u001b[38;5;28mself\u001b[39m\u001b[38;5;241m.\u001b[39mdataset\u001b[38;5;241m.\u001b[39m__getitems__(possibly_batched_index)\n\u001b[1;32m     57\u001b[0m     \u001b[38;5;28;01melse\u001b[39;00m:\n\u001b[0;32m---> 58\u001b[0m         data \u001b[38;5;241m=\u001b[39m [\u001b[38;5;28;43mself\u001b[39;49m\u001b[38;5;241;43m.\u001b[39;49m\u001b[43mdataset\u001b[49m\u001b[43m[\u001b[49m\u001b[43midx\u001b[49m\u001b[43m]\u001b[49m \u001b[38;5;28;01mfor\u001b[39;00m idx \u001b[38;5;129;01min\u001b[39;00m possibly_batched_index]\n\u001b[1;32m     59\u001b[0m \u001b[38;5;28;01melse\u001b[39;00m:\n\u001b[1;32m     60\u001b[0m     data \u001b[38;5;241m=\u001b[39m \u001b[38;5;28mself\u001b[39m\u001b[38;5;241m.\u001b[39mdataset[possibly_batched_index]\n",
      "Cell \u001b[0;32mIn[4], line 19\u001b[0m, in \u001b[0;36mButterflyAndMothDataset.__getitem__\u001b[0;34m(self, idx)\u001b[0m\n\u001b[1;32m     17\u001b[0m \u001b[38;5;28;01mdef\u001b[39;00m \u001b[38;5;21m__getitem__\u001b[39m(\u001b[38;5;28mself\u001b[39m, idx):\n\u001b[1;32m     18\u001b[0m     img_path \u001b[38;5;241m=\u001b[39m \u001b[38;5;28mself\u001b[39m\u001b[38;5;241m.\u001b[39mimgs_list[idx]\n\u001b[0;32m---> 19\u001b[0m     img \u001b[38;5;241m=\u001b[39m \u001b[43mcv2\u001b[49m\u001b[38;5;241;43m.\u001b[39;49m\u001b[43mimread\u001b[49m\u001b[43m(\u001b[49m\u001b[43mimg_path\u001b[49m\u001b[43m,\u001b[49m\u001b[43m \u001b[49m\u001b[43mcv2\u001b[49m\u001b[38;5;241;43m.\u001b[39;49m\u001b[43mIMREAD_COLOR\u001b[49m\u001b[43m)\u001b[49m\n\u001b[1;32m     20\u001b[0m     img \u001b[38;5;241m=\u001b[39m cv2\u001b[38;5;241m.\u001b[39mcvtColor(img, cv2\u001b[38;5;241m.\u001b[39mCOLOR_BGR2RGB)\u001b[38;5;241m.\u001b[39mastype(np\u001b[38;5;241m.\u001b[39mfloat32)\n\u001b[1;32m     21\u001b[0m     img \u001b[38;5;241m/\u001b[39m\u001b[38;5;241m=\u001b[39m \u001b[38;5;241m255.\u001b[39m\n",
      "\u001b[0;31mKeyboardInterrupt\u001b[0m: "
     ]
    }
   ],
   "source": [
    "train_data_loader, valid_data_loader, test_data_loader = create_data_set(False)\n",
    "\n",
    "VGG11 = create_vgg11_model(is_batch=False, is_dropout= False)\n",
    "details = create_model_details(VGG11, 50, lr=1e-4)\n",
    "result = train_model(details, \"VGG11\")\n",
    "show_result(result, \"VGG11\")"
   ]
  },
  {
   "cell_type": "code",
   "execution_count": null,
   "id": "bc790c5d",
   "metadata": {},
   "outputs": [],
   "source": [
    "train_data_loader, valid_data_loader, test_data_loader = create_data_set(False)\n",
    "\n",
    "VGG11_B = create_vgg11_model(is_batch=True, is_dropout= False)\n",
    "details = create_model_details(VGG11_B, 50, lr=1e-3)\n",
    "result = train_model(details, \"VGG11_B\")\n",
    "show_result(result, \"VGG11_B\")"
   ]
  },
  {
   "cell_type": "code",
   "execution_count": null,
   "id": "7ba8f89a",
   "metadata": {},
   "outputs": [],
   "source": [
    "# train_data_loader, valid_data_loader, test_data_loader = create_data_set(False)\n",
    "\n",
    "# VGG11_BD = create_vgg11_model(is_batch=True, is_dropout= True)\n",
    "# details = create_model_details(VGG11_BD, 50, lr=1e-3)\n",
    "# result = train_model(details, \"VGG11_BD\")\n",
    "show_result(result, \"VGG11_BD\")"
   ]
  },
  {
   "cell_type": "code",
   "execution_count": null,
   "id": "5d6ffb22",
   "metadata": {},
   "outputs": [],
   "source": [
    "torch.cuda.empty_cache()\n",
    "train_data_loader, valid_data_loader, test_data_loader = create_data_set(True)\n",
    "\n",
    "VGG11_BDA = create_vgg11_model(is_batch=True, is_dropout= True)\n",
    "details = create_model_details(VGG11_BDA, 100, lr=1e-3)\n",
    "result = train_model(details, \"VGG11_BDA\")\n",
    "show_result(result, \"VGG11_BDA\")"
   ]
  },
  {
   "cell_type": "code",
   "execution_count": 11,
   "id": "76e63c5e",
   "metadata": {},
   "outputs": [
    {
     "name": "stderr",
     "output_type": "stream",
     "text": [
      "2023-01-05 05:53:20.821880: I tensorflow/stream_executor/platform/default/dso_loader.cc:49] Successfully opened dynamic library libcudart.so.10.1\n",
      "100%|█████████████████████████████████████████| 198/198 [01:16<00:00,  2.58it/s]\n",
      "100%|█████████████████████████████████████████████| 8/8 [00:01<00:00,  5.64it/s]\n"
     ]
    },
    {
     "name": "stdout",
     "output_type": "stream",
     "text": [
      "** Epoch 0 ** - Epoch Time 78\n",
      "Train Loss = 4.7656\n",
      "Train Accuracy = 7.118564646464647 % \n",
      "\n",
      "Val Loss = 3.7282\n",
      "Val Accuracy = 10.231375 % \n",
      "\n"
     ]
    },
    {
     "name": "stderr",
     "output_type": "stream",
     "text": [
      "100%|█████████████████████████████████████████| 198/198 [01:15<00:00,  2.63it/s]\n",
      "100%|█████████████████████████████████████████████| 8/8 [00:01<00:00,  5.66it/s]\n"
     ]
    },
    {
     "name": "stdout",
     "output_type": "stream",
     "text": [
      "** Epoch 1 ** - Epoch Time 76\n",
      "Train Loss = 3.5063\n",
      "Train Accuracy = 14.947356565656568 % \n",
      "\n",
      "Val Loss = 3.0983\n",
      "Val Accuracy = 19.2608125 % \n",
      "\n"
     ]
    },
    {
     "name": "stderr",
     "output_type": "stream",
     "text": [
      "100%|█████████████████████████████████████████| 198/198 [01:15<00:00,  2.63it/s]\n",
      "100%|█████████████████████████████████████████████| 8/8 [00:01<00:00,  5.78it/s]\n"
     ]
    },
    {
     "name": "stdout",
     "output_type": "stream",
     "text": [
      "** Epoch 2 ** - Epoch Time 76\n",
      "Train Loss = 3.0242\n",
      "Train Accuracy = 22.44776414141414 % \n",
      "\n",
      "Val Loss = 2.5925\n",
      "Val Accuracy = 30.6941125 % \n",
      "\n"
     ]
    },
    {
     "name": "stderr",
     "output_type": "stream",
     "text": [
      "100%|█████████████████████████████████████████| 198/198 [01:15<00:00,  2.63it/s]\n",
      "100%|█████████████████████████████████████████████| 8/8 [00:01<00:00,  5.67it/s]\n"
     ]
    },
    {
     "name": "stdout",
     "output_type": "stream",
     "text": [
      "** Epoch 3 ** - Epoch Time 76\n",
      "Train Loss = 2.7036\n",
      "Train Accuracy = 30.038285858585855 % \n",
      "\n",
      "Val Loss = 2.3828\n",
      "Val Accuracy = 33.8191125 % \n",
      "\n"
     ]
    },
    {
     "name": "stderr",
     "output_type": "stream",
     "text": [
      "100%|█████████████████████████████████████████| 198/198 [01:15<00:00,  2.63it/s]\n",
      "100%|█████████████████████████████████████████████| 8/8 [00:01<00:00,  5.71it/s]\n"
     ]
    },
    {
     "name": "stdout",
     "output_type": "stream",
     "text": [
      "** Epoch 4 ** - Epoch Time 76\n",
      "Train Loss = 2.4005\n",
      "Train Accuracy = 37.087355555555554 % \n",
      "\n",
      "Val Loss = 2.1527\n",
      "Val Accuracy = 43.9453125 % \n",
      "\n"
     ]
    },
    {
     "name": "stderr",
     "output_type": "stream",
     "text": [
      "100%|█████████████████████████████████████████| 198/198 [01:15<00:00,  2.63it/s]\n",
      "100%|█████████████████████████████████████████████| 8/8 [00:01<00:00,  5.66it/s]\n"
     ]
    },
    {
     "name": "stdout",
     "output_type": "stream",
     "text": [
      "** Epoch 5 ** - Epoch Time 76\n",
      "Train Loss = 2.229\n",
      "Train Accuracy = 40.75253535353536 % \n",
      "\n",
      "Val Loss = 1.9657\n",
      "Val Accuracy = 49.65445 % \n",
      "\n"
     ]
    },
    {
     "name": "stderr",
     "output_type": "stream",
     "text": [
      "100%|█████████████████████████████████████████| 198/198 [01:15<00:00,  2.63it/s]\n",
      "100%|█████████████████████████████████████████████| 8/8 [00:01<00:00,  5.70it/s]\n"
     ]
    },
    {
     "name": "stdout",
     "output_type": "stream",
     "text": [
      "** Epoch 6 ** - Epoch Time 76\n",
      "Train Loss = 2.0297\n",
      "Train Accuracy = 45.20965707070707 % \n",
      "\n",
      "Val Loss = 1.8056\n",
      "Val Accuracy = 53.0198375 % \n",
      "\n"
     ]
    },
    {
     "name": "stderr",
     "output_type": "stream",
     "text": [
      "100%|█████████████████████████████████████████| 198/198 [01:15<00:00,  2.63it/s]\n",
      "100%|█████████████████████████████████████████████| 8/8 [00:01<00:00,  5.84it/s]\n"
     ]
    },
    {
     "name": "stdout",
     "output_type": "stream",
     "text": [
      "** Epoch 7 ** - Epoch Time 76\n",
      "Train Loss = 1.8894\n",
      "Train Accuracy = 48.35196717171717 % \n",
      "\n",
      "Val Loss = 1.7033\n",
      "Val Accuracy = 56.0396625 % \n",
      "\n"
     ]
    },
    {
     "name": "stderr",
     "output_type": "stream",
     "text": [
      "100%|█████████████████████████████████████████| 198/198 [01:15<00:00,  2.62it/s]\n",
      "100%|█████████████████████████████████████████████| 8/8 [00:01<00:00,  5.63it/s]\n"
     ]
    },
    {
     "name": "stdout",
     "output_type": "stream",
     "text": [
      "** Epoch 8 ** - Epoch Time 76\n",
      "Train Loss = 1.7187\n",
      "Train Accuracy = 52.889530303030305 % \n",
      "\n",
      "Val Loss = 1.645\n",
      "Val Accuracy = 52.9747625 % \n",
      "\n"
     ]
    },
    {
     "name": "stderr",
     "output_type": "stream",
     "text": [
      "100%|█████████████████████████████████████████| 198/198 [01:15<00:00,  2.62it/s]\n",
      "100%|█████████████████████████████████████████████| 8/8 [00:01<00:00,  5.65it/s]\n"
     ]
    },
    {
     "name": "stdout",
     "output_type": "stream",
     "text": [
      "** Epoch 9 ** - Epoch Time 77\n",
      "Train Loss = 1.5839\n",
      "Train Accuracy = 56.376517171717175 % \n",
      "\n",
      "Val Loss = 1.4286\n",
      "Val Accuracy = 60.2914625 % \n",
      "\n"
     ]
    },
    {
     "name": "stderr",
     "output_type": "stream",
     "text": [
      "100%|█████████████████████████████████████████| 198/198 [01:15<00:00,  2.62it/s]\n",
      "100%|█████████████████████████████████████████████| 8/8 [00:01<00:00,  5.55it/s]\n"
     ]
    },
    {
     "name": "stdout",
     "output_type": "stream",
     "text": [
      "** Epoch 10 ** - Epoch Time 76\n",
      "Train Loss = 1.5084\n",
      "Train Accuracy = 58.261546969696965 % \n",
      "\n",
      "Val Loss = 1.3151\n",
      "Val Accuracy = 63.206125 % \n",
      "\n"
     ]
    },
    {
     "name": "stderr",
     "output_type": "stream",
     "text": [
      "100%|█████████████████████████████████████████| 198/198 [01:15<00:00,  2.63it/s]\n",
      "100%|█████████████████████████████████████████████| 8/8 [00:01<00:00,  5.81it/s]\n"
     ]
    },
    {
     "name": "stdout",
     "output_type": "stream",
     "text": [
      "** Epoch 11 ** - Epoch Time 76\n",
      "Train Loss = 1.3678\n",
      "Train Accuracy = 61.75006111111111 % \n",
      "\n",
      "Val Loss = 1.2902\n",
      "Val Accuracy = 62.7403875 % \n",
      "\n"
     ]
    },
    {
     "name": "stderr",
     "output_type": "stream",
     "text": [
      "100%|█████████████████████████████████████████| 198/198 [01:15<00:00,  2.63it/s]\n",
      "100%|█████████████████████████████████████████████| 8/8 [00:01<00:00,  5.81it/s]\n"
     ]
    },
    {
     "name": "stdout",
     "output_type": "stream",
     "text": [
      "** Epoch 12 ** - Epoch Time 76\n",
      "Train Loss = 1.2904\n",
      "Train Accuracy = 63.9464196969697 % \n",
      "\n",
      "Val Loss = 1.2932\n",
      "Val Accuracy = 65.7902625 % \n",
      "\n"
     ]
    },
    {
     "name": "stderr",
     "output_type": "stream",
     "text": [
      "100%|█████████████████████████████████████████| 198/198 [01:15<00:00,  2.62it/s]\n",
      "100%|█████████████████████████████████████████████| 8/8 [00:01<00:00,  5.68it/s]\n"
     ]
    },
    {
     "name": "stdout",
     "output_type": "stream",
     "text": [
      "** Epoch 13 ** - Epoch Time 76\n",
      "Train Loss = 1.1866\n",
      "Train Accuracy = 66.48109090909091 % \n",
      "\n",
      "Val Loss = 1.0831\n",
      "Val Accuracy = 70.5829375 % \n",
      "\n"
     ]
    },
    {
     "name": "stderr",
     "output_type": "stream",
     "text": [
      "100%|█████████████████████████████████████████| 198/198 [01:15<00:00,  2.63it/s]\n",
      "100%|█████████████████████████████████████████████| 8/8 [00:01<00:00,  5.82it/s]\n"
     ]
    },
    {
     "name": "stdout",
     "output_type": "stream",
     "text": [
      "** Epoch 14 ** - Epoch Time 76\n",
      "Train Loss = 1.1008\n",
      "Train Accuracy = 68.0736292929293 % \n",
      "\n",
      "Val Loss = 1.1852\n",
      "Val Accuracy = 68.02885 % \n",
      "\n"
     ]
    },
    {
     "name": "stderr",
     "output_type": "stream",
     "text": [
      "100%|█████████████████████████████████████████| 198/198 [01:15<00:00,  2.62it/s]\n",
      "100%|█████████████████████████████████████████████| 8/8 [00:01<00:00,  5.73it/s]\n"
     ]
    },
    {
     "name": "stdout",
     "output_type": "stream",
     "text": [
      "** Epoch 15 ** - Epoch Time 76\n",
      "Train Loss = 1.0233\n",
      "Train Accuracy = 70.63884797979799 % \n",
      "\n",
      "Val Loss = 1.1538\n",
      "Val Accuracy = 69.4411 % \n",
      "\n"
     ]
    },
    {
     "name": "stderr",
     "output_type": "stream",
     "text": [
      "100%|█████████████████████████████████████████| 198/198 [01:15<00:00,  2.62it/s]\n",
      "100%|█████████████████████████████████████████████| 8/8 [00:01<00:00,  5.82it/s]\n"
     ]
    },
    {
     "name": "stdout",
     "output_type": "stream",
     "text": [
      "** Epoch 16 ** - Epoch Time 76\n",
      "Train Loss = 0.9677\n",
      "Train Accuracy = 72.02722777777778 % \n",
      "\n",
      "Val Loss = 1.0712\n",
      "Val Accuracy = 71.3491625 % \n",
      "\n"
     ]
    },
    {
     "name": "stderr",
     "output_type": "stream",
     "text": [
      "100%|█████████████████████████████████████████| 198/198 [01:15<00:00,  2.63it/s]\n",
      "100%|█████████████████████████████████████████████| 8/8 [00:01<00:00,  5.53it/s]\n"
     ]
    },
    {
     "name": "stdout",
     "output_type": "stream",
     "text": [
      "** Epoch 17 ** - Epoch Time 76\n",
      "Train Loss = 0.9063\n",
      "Train Accuracy = 73.92218535353535 % \n",
      "\n",
      "Val Loss = 1.1556\n",
      "Val Accuracy = 70.8383375 % \n",
      "\n"
     ]
    },
    {
     "name": "stderr",
     "output_type": "stream",
     "text": [
      "100%|█████████████████████████████████████████| 198/198 [01:15<00:00,  2.63it/s]\n",
      "100%|█████████████████████████████████████████████| 8/8 [00:01<00:00,  5.85it/s]\n"
     ]
    },
    {
     "name": "stdout",
     "output_type": "stream",
     "text": [
      "** Epoch 18 ** - Epoch Time 76\n",
      "Train Loss = 0.8574\n",
      "Train Accuracy = 75.37471464646465 % \n",
      "\n",
      "Val Loss = 0.9177\n",
      "Val Accuracy = 75.390625 % \n",
      "\n"
     ]
    },
    {
     "name": "stderr",
     "output_type": "stream",
     "text": [
      "100%|█████████████████████████████████████████| 198/198 [01:15<00:00,  2.62it/s]\n",
      "100%|█████████████████████████████████████████████| 8/8 [00:01<00:00,  5.68it/s]\n"
     ]
    },
    {
     "name": "stdout",
     "output_type": "stream",
     "text": [
      "** Epoch 19 ** - Epoch Time 76\n",
      "Train Loss = 0.768\n",
      "Train Accuracy = 77.80679797979798 % \n",
      "\n",
      "Val Loss = 0.8691\n",
      "Val Accuracy = 76.262025 % \n",
      "\n"
     ]
    },
    {
     "name": "stderr",
     "output_type": "stream",
     "text": [
      "100%|█████████████████████████████████████████| 198/198 [01:15<00:00,  2.62it/s]\n",
      "100%|█████████████████████████████████████████████| 8/8 [00:01<00:00,  5.78it/s]\n"
     ]
    },
    {
     "name": "stdout",
     "output_type": "stream",
     "text": [
      "** Epoch 20 ** - Epoch Time 76\n",
      "Train Loss = 0.7473\n",
      "Train Accuracy = 77.86687424242425 % \n",
      "\n",
      "Val Loss = 0.8287\n",
      "Val Accuracy = 77.6292125 % \n",
      "\n"
     ]
    },
    {
     "name": "stderr",
     "output_type": "stream",
     "text": [
      "100%|█████████████████████████████████████████| 198/198 [01:15<00:00,  2.63it/s]\n",
      "100%|█████████████████████████████████████████████| 8/8 [00:01<00:00,  5.87it/s]\n"
     ]
    },
    {
     "name": "stdout",
     "output_type": "stream",
     "text": [
      "** Epoch 21 ** - Epoch Time 76\n",
      "Train Loss = 0.6985\n",
      "Train Accuracy = 79.47926868686868 % \n",
      "\n",
      "Val Loss = 0.9897\n",
      "Val Accuracy = 72.7614125 % \n",
      "\n"
     ]
    },
    {
     "name": "stderr",
     "output_type": "stream",
     "text": [
      "100%|█████████████████████████████████████████| 198/198 [01:15<00:00,  2.63it/s]\n",
      "100%|█████████████████████████████████████████████| 8/8 [00:01<00:00,  5.79it/s]\n"
     ]
    },
    {
     "name": "stdout",
     "output_type": "stream",
     "text": [
      "** Epoch 22 ** - Epoch Time 76\n",
      "Train Loss = 0.6817\n",
      "Train Accuracy = 80.33841414141415 % \n",
      "\n",
      "Val Loss = 0.8289\n",
      "Val Accuracy = 78.33533750000001 % \n",
      "\n"
     ]
    },
    {
     "name": "stderr",
     "output_type": "stream",
     "text": [
      "100%|█████████████████████████████████████████| 198/198 [01:15<00:00,  2.63it/s]\n",
      "100%|█████████████████████████████████████████████| 8/8 [00:01<00:00,  5.86it/s]\n"
     ]
    },
    {
     "name": "stdout",
     "output_type": "stream",
     "text": [
      "** Epoch 23 ** - Epoch Time 76\n",
      "Train Loss = 0.6002\n",
      "Train Accuracy = 82.36116212121212 % \n",
      "\n",
      "Val Loss = 0.8714\n",
      "Val Accuracy = 77.0883375 % \n",
      "\n"
     ]
    },
    {
     "name": "stderr",
     "output_type": "stream",
     "text": [
      "100%|█████████████████████████████████████████| 198/198 [01:15<00:00,  2.63it/s]\n",
      "100%|█████████████████████████████████████████████| 8/8 [00:01<00:00,  5.86it/s]\n"
     ]
    },
    {
     "name": "stdout",
     "output_type": "stream",
     "text": [
      "** Epoch 24 ** - Epoch Time 76\n",
      "Train Loss = 0.5943\n",
      "Train Accuracy = 82.58161262626263 % \n",
      "\n",
      "Val Loss = 0.9398\n",
      "Val Accuracy = 79.5222375 % \n",
      "\n"
     ]
    },
    {
     "name": "stderr",
     "output_type": "stream",
     "text": [
      "100%|█████████████████████████████████████████| 198/198 [01:15<00:00,  2.63it/s]\n",
      "100%|█████████████████████████████████████████████| 8/8 [00:01<00:00,  5.57it/s]\n"
     ]
    },
    {
     "name": "stdout",
     "output_type": "stream",
     "text": [
      "** Epoch 25 ** - Epoch Time 76\n",
      "Train Loss = 0.5452\n",
      "Train Accuracy = 83.91424343434343 % \n",
      "\n",
      "Val Loss = 0.7887\n",
      "Val Accuracy = 78.7409875 % \n",
      "\n"
     ]
    },
    {
     "name": "stderr",
     "output_type": "stream",
     "text": [
      "100%|█████████████████████████████████████████| 198/198 [01:15<00:00,  2.63it/s]\n",
      "100%|█████████████████████████████████████████████| 8/8 [00:01<00:00,  5.78it/s]\n"
     ]
    },
    {
     "name": "stdout",
     "output_type": "stream",
     "text": [
      "** Epoch 26 ** - Epoch Time 76\n",
      "Train Loss = 0.5214\n",
      "Train Accuracy = 84.85433989898989 % \n",
      "\n",
      "Val Loss = 0.8395\n",
      "Val Accuracy = 77.34375 % \n",
      "\n"
     ]
    },
    {
     "name": "stderr",
     "output_type": "stream",
     "text": [
      "100%|█████████████████████████████████████████| 198/198 [01:15<00:00,  2.63it/s]\n",
      "100%|█████████████████████████████████████████████| 8/8 [00:01<00:00,  5.82it/s]\n"
     ]
    },
    {
     "name": "stdout",
     "output_type": "stream",
     "text": [
      "** Epoch 27 ** - Epoch Time 76\n",
      "Train Loss = 0.5016\n",
      "Train Accuracy = 85.05849848484849 % \n",
      "\n",
      "Val Loss = 0.853\n",
      "Val Accuracy = 80.078125 % \n",
      "\n"
     ]
    },
    {
     "name": "stderr",
     "output_type": "stream",
     "text": [
      "100%|█████████████████████████████████████████| 198/198 [01:15<00:00,  2.62it/s]\n",
      "100%|█████████████████████████████████████████████| 8/8 [00:01<00:00,  5.84it/s]\n"
     ]
    },
    {
     "name": "stdout",
     "output_type": "stream",
     "text": [
      "** Epoch 28 ** - Epoch Time 76\n",
      "Train Loss = 0.4903\n",
      "Train Accuracy = 85.71501313131313 % \n",
      "\n",
      "Val Loss = 0.7558\n",
      "Val Accuracy = 80.64903749999999 % \n",
      "\n"
     ]
    },
    {
     "name": "stderr",
     "output_type": "stream",
     "text": [
      "100%|█████████████████████████████████████████| 198/198 [01:15<00:00,  2.63it/s]\n",
      "100%|█████████████████████████████████████████████| 8/8 [00:01<00:00,  5.79it/s]\n"
     ]
    },
    {
     "name": "stdout",
     "output_type": "stream",
     "text": [
      "** Epoch 29 ** - Epoch Time 76\n",
      "Train Loss = 0.4392\n",
      "Train Accuracy = 86.96134747474747 % \n",
      "\n",
      "Val Loss = 0.7669\n",
      "Val Accuracy = 79.296875 % \n",
      "\n"
     ]
    },
    {
     "name": "stderr",
     "output_type": "stream",
     "text": [
      "100%|█████████████████████████████████████████| 198/198 [01:15<00:00,  2.63it/s]\n",
      "100%|█████████████████████████████████████████████| 8/8 [00:01<00:00,  5.83it/s]\n"
     ]
    },
    {
     "name": "stdout",
     "output_type": "stream",
     "text": [
      "** Epoch 30 ** - Epoch Time 76\n",
      "Train Loss = 0.4147\n",
      "Train Accuracy = 87.37908333333333 % \n",
      "\n",
      "Val Loss = 0.7672\n",
      "Val Accuracy = 81.4753625 % \n",
      "\n"
     ]
    },
    {
     "name": "stderr",
     "output_type": "stream",
     "text": [
      "100%|█████████████████████████████████████████| 198/198 [01:15<00:00,  2.63it/s]\n",
      "100%|█████████████████████████████████████████████| 8/8 [00:01<00:00,  5.61it/s]\n"
     ]
    },
    {
     "name": "stdout",
     "output_type": "stream",
     "text": [
      "** Epoch 31 ** - Epoch Time 76\n",
      "Train Loss = 0.3962\n",
      "Train Accuracy = 88.3660191919192 % \n",
      "\n",
      "Val Loss = 0.8143\n",
      "Val Accuracy = 82.767425 % \n",
      "\n"
     ]
    },
    {
     "name": "stderr",
     "output_type": "stream",
     "text": [
      "100%|█████████████████████████████████████████| 198/198 [01:15<00:00,  2.62it/s]\n",
      "100%|█████████████████████████████████████████████| 8/8 [00:01<00:00,  5.69it/s]\n"
     ]
    },
    {
     "name": "stdout",
     "output_type": "stream",
     "text": [
      "** Epoch 32 ** - Epoch Time 76\n",
      "Train Loss = 0.3847\n",
      "Train Accuracy = 88.01039646464646 % \n",
      "\n",
      "Val Loss = 0.8767\n",
      "Val Accuracy = 81.3852125 % \n",
      "\n"
     ]
    },
    {
     "name": "stderr",
     "output_type": "stream",
     "text": [
      "100%|█████████████████████████████████████████| 198/198 [01:15<00:00,  2.62it/s]\n",
      "100%|█████████████████████████████████████████████| 8/8 [00:01<00:00,  5.85it/s]\n"
     ]
    },
    {
     "name": "stdout",
     "output_type": "stream",
     "text": [
      "** Epoch 33 ** - Epoch Time 76\n",
      "Train Loss = 0.3576\n",
      "Train Accuracy = 89.06937323232323 % \n",
      "\n",
      "Val Loss = 0.8447\n",
      "Val Accuracy = 82.7073375 % \n",
      "\n"
     ]
    },
    {
     "name": "stderr",
     "output_type": "stream",
     "text": [
      "100%|█████████████████████████████████████████| 198/198 [01:15<00:00,  2.62it/s]\n",
      "100%|█████████████████████████████████████████████| 8/8 [00:01<00:00,  5.77it/s]\n"
     ]
    },
    {
     "name": "stdout",
     "output_type": "stream",
     "text": [
      "** Epoch 34 ** - Epoch Time 76\n",
      "Train Loss = 0.3485\n",
      "Train Accuracy = 89.46241666666667 % \n",
      "\n",
      "Val Loss = 0.815\n",
      "Val Accuracy = 80.7542125 % \n",
      "\n"
     ]
    },
    {
     "name": "stderr",
     "output_type": "stream",
     "text": [
      "100%|█████████████████████████████████████████| 198/198 [01:15<00:00,  2.63it/s]\n",
      "100%|█████████████████████████████████████████████| 8/8 [00:01<00:00,  5.70it/s]\n"
     ]
    },
    {
     "name": "stdout",
     "output_type": "stream",
     "text": [
      "** Epoch 35 ** - Epoch Time 76\n",
      "Train Loss = 0.3574\n",
      "Train Accuracy = 89.48710909090909 % \n",
      "\n",
      "Val Loss = 0.8368\n",
      "Val Accuracy = 80.6039625 % \n",
      "\n"
     ]
    },
    {
     "name": "stderr",
     "output_type": "stream",
     "text": [
      "100%|█████████████████████████████████████████| 198/198 [01:15<00:00,  2.63it/s]\n",
      "100%|█████████████████████████████████████████████| 8/8 [00:01<00:00,  5.71it/s]\n"
     ]
    },
    {
     "name": "stdout",
     "output_type": "stream",
     "text": [
      "** Epoch 36 ** - Epoch Time 76\n",
      "Train Loss = 0.3441\n",
      "Train Accuracy = 89.63551868686868 % \n",
      "\n",
      "Val Loss = 0.8176\n",
      "Val Accuracy = 80.949525 % \n",
      "\n"
     ]
    },
    {
     "name": "stderr",
     "output_type": "stream",
     "text": [
      "100%|█████████████████████████████████████████| 198/198 [01:16<00:00,  2.58it/s]\n",
      "100%|█████████████████████████████████████████████| 8/8 [00:01<00:00,  5.58it/s]\n"
     ]
    },
    {
     "name": "stdout",
     "output_type": "stream",
     "text": [
      "** Epoch 37 ** - Epoch Time 78\n",
      "Train Loss = 0.3046\n",
      "Train Accuracy = 90.89279898989899 % \n",
      "\n",
      "Val Loss = 0.8471\n",
      "Val Accuracy = 81.6857 % \n",
      "\n"
     ]
    },
    {
     "name": "stderr",
     "output_type": "stream",
     "text": [
      "100%|█████████████████████████████████████████| 198/198 [01:15<00:00,  2.62it/s]\n",
      "100%|█████████████████████████████████████████████| 8/8 [00:01<00:00,  5.75it/s]\n"
     ]
    },
    {
     "name": "stdout",
     "output_type": "stream",
     "text": [
      "** Epoch 38 ** - Epoch Time 77\n",
      "Train Loss = 0.2998\n",
      "Train Accuracy = 90.7092601010101 % \n",
      "\n",
      "Val Loss = 0.7921\n",
      "Val Accuracy = 83.4735625 % \n",
      "\n"
     ]
    },
    {
     "name": "stderr",
     "output_type": "stream",
     "text": [
      "100%|█████████████████████████████████████████| 198/198 [01:16<00:00,  2.58it/s]\n",
      "100%|█████████████████████████████████████████████| 8/8 [00:01<00:00,  5.69it/s]\n"
     ]
    },
    {
     "name": "stdout",
     "output_type": "stream",
     "text": [
      "** Epoch 39 ** - Epoch Time 78\n",
      "Train Loss = 0.2922\n",
      "Train Accuracy = 91.23747575757575 % \n",
      "\n",
      "Val Loss = 0.7073\n",
      "Val Accuracy = 83.18809999999999 % \n",
      "\n"
     ]
    },
    {
     "name": "stderr",
     "output_type": "stream",
     "text": [
      "100%|█████████████████████████████████████████| 198/198 [01:16<00:00,  2.60it/s]\n",
      "100%|█████████████████████████████████████████████| 8/8 [00:01<00:00,  5.66it/s]\n"
     ]
    },
    {
     "name": "stdout",
     "output_type": "stream",
     "text": [
      "** Epoch 40 ** - Epoch Time 77\n",
      "Train Loss = 0.2885\n",
      "Train Accuracy = 91.18427222222222 % \n",
      "\n",
      "Val Loss = 0.7576\n",
      "Val Accuracy = 82.01622499999999 % \n",
      "\n"
     ]
    },
    {
     "name": "stderr",
     "output_type": "stream",
     "text": [
      "100%|█████████████████████████████████████████| 198/198 [01:16<00:00,  2.59it/s]\n",
      "100%|█████████████████████████████████████████████| 8/8 [00:01<00:00,  5.83it/s]\n"
     ]
    },
    {
     "name": "stdout",
     "output_type": "stream",
     "text": [
      "** Epoch 41 ** - Epoch Time 77\n",
      "Train Loss = 0.2766\n",
      "Train Accuracy = 91.93090151515152 % \n",
      "\n",
      "Val Loss = 0.8304\n",
      "Val Accuracy = 83.6238 % \n",
      "\n"
     ]
    },
    {
     "name": "stderr",
     "output_type": "stream",
     "text": [
      "100%|█████████████████████████████████████████| 198/198 [01:16<00:00,  2.60it/s]\n",
      "100%|█████████████████████████████████████████████| 8/8 [00:01<00:00,  5.70it/s]\n"
     ]
    },
    {
     "name": "stdout",
     "output_type": "stream",
     "text": [
      "** Epoch 42 ** - Epoch Time 77\n",
      "Train Loss = 0.271\n",
      "Train Accuracy = 91.7203792929293 % \n",
      "\n",
      "Val Loss = 0.837\n",
      "Val Accuracy = 83.4735625 % \n",
      "\n"
     ]
    },
    {
     "name": "stderr",
     "output_type": "stream",
     "text": [
      "100%|█████████████████████████████████████████| 198/198 [01:15<00:00,  2.61it/s]\n",
      "100%|█████████████████████████████████████████████| 8/8 [00:01<00:00,  5.79it/s]\n"
     ]
    },
    {
     "name": "stdout",
     "output_type": "stream",
     "text": [
      "** Epoch 43 ** - Epoch Time 77\n",
      "Train Loss = 0.2462\n",
      "Train Accuracy = 92.79361161616161 % \n",
      "\n",
      "Val Loss = 0.6301\n",
      "Val Accuracy = 85.95252500000001 % \n",
      "\n"
     ]
    },
    {
     "name": "stderr",
     "output_type": "stream",
     "text": [
      "100%|█████████████████████████████████████████| 198/198 [01:15<00:00,  2.61it/s]\n",
      "100%|█████████████████████████████████████████████| 8/8 [00:01<00:00,  5.72it/s]\n"
     ]
    },
    {
     "name": "stdout",
     "output_type": "stream",
     "text": [
      "** Epoch 44 ** - Epoch Time 77\n",
      "Train Loss = 0.2178\n",
      "Train Accuracy = 93.33913737373737 % \n",
      "\n",
      "Val Loss = 1.0415\n",
      "Val Accuracy = 80.03305 % \n",
      "\n"
     ]
    },
    {
     "name": "stderr",
     "output_type": "stream",
     "text": [
      "100%|█████████████████████████████████████████| 198/198 [01:17<00:00,  2.57it/s]\n",
      "100%|█████████████████████████████████████████████| 8/8 [00:01<00:00,  5.66it/s]\n"
     ]
    },
    {
     "name": "stdout",
     "output_type": "stream",
     "text": [
      "** Epoch 45 ** - Epoch Time 78\n",
      "Train Loss = 0.2363\n",
      "Train Accuracy = 93.04613686868687 % \n",
      "\n",
      "Val Loss = 0.9556\n",
      "Val Accuracy = 82.01622499999999 % \n",
      "\n"
     ]
    },
    {
     "name": "stderr",
     "output_type": "stream",
     "text": [
      "100%|█████████████████████████████████████████| 198/198 [01:16<00:00,  2.60it/s]\n",
      "100%|█████████████████████████████████████████████| 8/8 [00:01<00:00,  5.67it/s]\n"
     ]
    },
    {
     "name": "stdout",
     "output_type": "stream",
     "text": [
      "** Epoch 46 ** - Epoch Time 77\n",
      "Train Loss = 0.2235\n",
      "Train Accuracy = 93.18818232323233 % \n",
      "\n",
      "Val Loss = 0.7084\n",
      "Val Accuracy = 85.4417125 % \n",
      "\n"
     ]
    },
    {
     "name": "stderr",
     "output_type": "stream",
     "text": [
      "100%|█████████████████████████████████████████| 198/198 [01:15<00:00,  2.63it/s]\n",
      "100%|█████████████████████████████████████████████| 8/8 [00:01<00:00,  5.67it/s]\n"
     ]
    },
    {
     "name": "stdout",
     "output_type": "stream",
     "text": [
      "** Epoch 47 ** - Epoch Time 76\n",
      "Train Loss = 0.2345\n",
      "Train Accuracy = 92.8956909090909 % \n",
      "\n",
      "Val Loss = 0.7995\n",
      "Val Accuracy = 83.59375 % \n",
      "\n"
     ]
    },
    {
     "name": "stderr",
     "output_type": "stream",
     "text": [
      "100%|█████████████████████████████████████████| 198/198 [01:15<00:00,  2.63it/s]\n",
      "100%|█████████████████████████████████████████████| 8/8 [00:01<00:00,  5.81it/s]\n"
     ]
    },
    {
     "name": "stdout",
     "output_type": "stream",
     "text": [
      "** Epoch 48 ** - Epoch Time 76\n",
      "Train Loss = 0.2229\n",
      "Train Accuracy = 93.29866212121212 % \n",
      "\n",
      "Val Loss = 0.8144\n",
      "Val Accuracy = 84.014425 % \n",
      "\n"
     ]
    },
    {
     "name": "stderr",
     "output_type": "stream",
     "text": [
      "100%|█████████████████████████████████████████| 198/198 [01:15<00:00,  2.63it/s]\n",
      "100%|█████████████████████████████████████████████| 8/8 [00:01<00:00,  5.82it/s]\n"
     ]
    },
    {
     "name": "stdout",
     "output_type": "stream",
     "text": [
      "** Epoch 49 ** - Epoch Time 76\n",
      "Train Loss = 0.2121\n",
      "Train Accuracy = 93.84418787878788 % \n",
      "\n",
      "Val Loss = 0.8001\n",
      "Val Accuracy = 82.2566125 % \n",
      "\n"
     ]
    },
    {
     "name": "stderr",
     "output_type": "stream",
     "text": [
      "100%|█████████████████████████████████████████| 198/198 [01:15<00:00,  2.62it/s]\n",
      "100%|█████████████████████████████████████████████| 8/8 [00:01<00:00,  5.83it/s]\n"
     ]
    },
    {
     "name": "stdout",
     "output_type": "stream",
     "text": [
      "** Epoch 50 ** - Epoch Time 76\n",
      "Train Loss = 0.1969\n",
      "Train Accuracy = 94.28610707070708 % \n",
      "\n",
      "Val Loss = 0.8455\n",
      "Val Accuracy = 83.4435125 % \n",
      "\n"
     ]
    },
    {
     "name": "stderr",
     "output_type": "stream",
     "text": [
      "100%|█████████████████████████████████████████| 198/198 [01:15<00:00,  2.61it/s]\n",
      "100%|█████████████████████████████████████████████| 8/8 [00:01<00:00,  5.69it/s]\n"
     ]
    },
    {
     "name": "stdout",
     "output_type": "stream",
     "text": [
      "** Epoch 51 ** - Epoch Time 77\n",
      "Train Loss = 0.1864\n",
      "Train Accuracy = 94.35611161616161 % \n",
      "\n",
      "Val Loss = 0.8735\n",
      "Val Accuracy = 82.7073375 % \n",
      "\n"
     ]
    },
    {
     "name": "stderr",
     "output_type": "stream",
     "text": [
      "100%|█████████████████████████████████████████| 198/198 [01:17<00:00,  2.57it/s]\n",
      "100%|█████████████████████████████████████████████| 8/8 [00:01<00:00,  5.36it/s]\n"
     ]
    },
    {
     "name": "stdout",
     "output_type": "stream",
     "text": [
      "** Epoch 52 ** - Epoch Time 78\n",
      "Train Loss = 0.1876\n",
      "Train Accuracy = 94.61652828282828 % \n",
      "\n",
      "Val Loss = 0.6569\n",
      "Val Accuracy = 85.33653749999999 % \n",
      "\n"
     ]
    },
    {
     "name": "stderr",
     "output_type": "stream",
     "text": [
      "100%|█████████████████████████████████████████| 198/198 [01:16<00:00,  2.58it/s]\n",
      "100%|█████████████████████████████████████████████| 8/8 [00:01<00:00,  5.51it/s]\n"
     ]
    },
    {
     "name": "stdout",
     "output_type": "stream",
     "text": [
      "** Epoch 53 ** - Epoch Time 78\n",
      "Train Loss = 0.1983\n",
      "Train Accuracy = 94.33294646464647 % \n",
      "\n",
      "Val Loss = 0.8096\n",
      "Val Accuracy = 84.6304125 % \n",
      "\n"
     ]
    },
    {
     "name": "stderr",
     "output_type": "stream",
     "text": [
      "100%|█████████████████████████████████████████| 198/198 [01:16<00:00,  2.60it/s]\n",
      "100%|█████████████████████████████████████████████| 8/8 [00:01<00:00,  5.55it/s]\n"
     ]
    },
    {
     "name": "stdout",
     "output_type": "stream",
     "text": [
      "** Epoch 54 ** - Epoch Time 77\n",
      "Train Loss = 0.1818\n",
      "Train Accuracy = 94.59183585858585 % \n",
      "\n",
      "Val Loss = 0.792\n",
      "Val Accuracy = 84.6003625 % \n",
      "\n"
     ]
    },
    {
     "name": "stderr",
     "output_type": "stream",
     "text": [
      "100%|█████████████████████████████████████████| 198/198 [01:15<00:00,  2.61it/s]\n",
      "100%|█████████████████████████████████████████████| 8/8 [00:01<00:00,  5.90it/s]\n"
     ]
    },
    {
     "name": "stdout",
     "output_type": "stream",
     "text": [
      "** Epoch 55 ** - Epoch Time 77\n",
      "Train Loss = 0.182\n",
      "Train Accuracy = 94.48186515151515 % \n",
      "\n",
      "Val Loss = 0.7222\n",
      "Val Accuracy = 85.3215125 % \n",
      "\n"
     ]
    },
    {
     "name": "stderr",
     "output_type": "stream",
     "text": [
      "100%|█████████████████████████████████████████| 198/198 [01:15<00:00,  2.62it/s]\n",
      "100%|█████████████████████████████████████████████| 8/8 [00:01<00:00,  5.61it/s]\n"
     ]
    },
    {
     "name": "stdout",
     "output_type": "stream",
     "text": [
      "** Epoch 56 ** - Epoch Time 77\n",
      "Train Loss = 0.184\n",
      "Train Accuracy = 94.72751717171717 % \n",
      "\n",
      "Val Loss = 0.7952\n",
      "Val Accuracy = 84.8858125 % \n",
      "\n"
     ]
    },
    {
     "name": "stderr",
     "output_type": "stream",
     "text": [
      "100%|█████████████████████████████████████████| 198/198 [01:15<00:00,  2.61it/s]\n",
      "100%|█████████████████████████████████████████████| 8/8 [00:01<00:00,  5.80it/s]\n"
     ]
    },
    {
     "name": "stdout",
     "output_type": "stream",
     "text": [
      "** Epoch 57 ** - Epoch Time 77\n",
      "Train Loss = 0.1687\n",
      "Train Accuracy = 95.0194994949495 % \n",
      "\n",
      "Val Loss = 0.8333\n",
      "Val Accuracy = 83.77403749999999 % \n",
      "\n"
     ]
    },
    {
     "name": "stderr",
     "output_type": "stream",
     "text": [
      "100%|█████████████████████████████████████████| 198/198 [01:15<00:00,  2.61it/s]\n",
      "100%|█████████████████████████████████████████████| 8/8 [00:01<00:00,  5.80it/s]\n"
     ]
    },
    {
     "name": "stdout",
     "output_type": "stream",
     "text": [
      "** Epoch 58 ** - Epoch Time 77\n",
      "Train Loss = 0.1507\n",
      "Train Accuracy = 95.50927626262626 % \n",
      "\n",
      "Val Loss = 0.6995\n",
      "Val Accuracy = 84.55528749999999 % \n",
      "\n"
     ]
    },
    {
     "name": "stderr",
     "output_type": "stream",
     "text": [
      "100%|█████████████████████████████████████████| 198/198 [01:16<00:00,  2.60it/s]\n",
      "100%|█████████████████████████████████████████████| 8/8 [00:01<00:00,  5.48it/s]\n"
     ]
    },
    {
     "name": "stdout",
     "output_type": "stream",
     "text": [
      "** Epoch 59 ** - Epoch Time 77\n",
      "Train Loss = 0.1598\n",
      "Train Accuracy = 95.26260606060606 % \n",
      "\n",
      "Val Loss = 1.0349\n",
      "Val Accuracy = 83.518625 % \n",
      "\n"
     ]
    },
    {
     "name": "stderr",
     "output_type": "stream",
     "text": [
      "100%|█████████████████████████████████████████| 198/198 [01:15<00:00,  2.61it/s]\n",
      "100%|█████████████████████████████████████████████| 8/8 [00:01<00:00,  5.78it/s]\n"
     ]
    },
    {
     "name": "stdout",
     "output_type": "stream",
     "text": [
      "** Epoch 60 ** - Epoch Time 77\n",
      "Train Loss = 0.1699\n",
      "Train Accuracy = 95.05106515151515 % \n",
      "\n",
      "Val Loss = 0.865\n",
      "Val Accuracy = 81.7758375 % \n",
      "\n"
     ]
    },
    {
     "name": "stderr",
     "output_type": "stream",
     "text": [
      "100%|█████████████████████████████████████████| 198/198 [01:15<00:00,  2.62it/s]\n",
      "100%|█████████████████████████████████████████████| 8/8 [00:01<00:00,  5.80it/s]\n"
     ]
    },
    {
     "name": "stdout",
     "output_type": "stream",
     "text": [
      "** Epoch 61 ** - Epoch Time 76\n",
      "Train Loss = 0.1515\n",
      "Train Accuracy = 95.81602323232323 % \n",
      "\n",
      "Val Loss = 0.7822\n",
      "Val Accuracy = 83.96934999999999 % \n",
      "\n"
     ]
    },
    {
     "name": "stderr",
     "output_type": "stream",
     "text": [
      "100%|█████████████████████████████████████████| 198/198 [01:15<00:00,  2.62it/s]\n",
      "100%|█████████████████████████████████████████████| 8/8 [00:01<00:00,  5.52it/s]\n"
     ]
    },
    {
     "name": "stdout",
     "output_type": "stream",
     "text": [
      "** Epoch 62 ** - Epoch Time 77\n",
      "Train Loss = 0.1586\n",
      "Train Accuracy = 95.44665404040404 % \n",
      "\n",
      "Val Loss = 0.789\n",
      "Val Accuracy = 84.450125 % \n",
      "\n"
     ]
    },
    {
     "name": "stderr",
     "output_type": "stream",
     "text": [
      "100%|█████████████████████████████████████████| 198/198 [01:15<00:00,  2.62it/s]\n",
      "100%|█████████████████████████████████████████████| 8/8 [00:01<00:00,  5.65it/s]\n"
     ]
    },
    {
     "name": "stdout",
     "output_type": "stream",
     "text": [
      "** Epoch 63 ** - Epoch Time 77\n",
      "Train Loss = 0.1471\n",
      "Train Accuracy = 95.54033282828283 % \n",
      "\n",
      "Val Loss = 0.7313\n",
      "Val Accuracy = 84.94591249999999 % \n",
      "\n"
     ]
    },
    {
     "name": "stderr",
     "output_type": "stream",
     "text": [
      "100%|█████████████████████████████████████████| 198/198 [01:15<00:00,  2.61it/s]\n",
      "100%|█████████████████████████████████████████████| 8/8 [00:01<00:00,  5.75it/s]\n"
     ]
    },
    {
     "name": "stdout",
     "output_type": "stream",
     "text": [
      "** Epoch 64 ** - Epoch Time 77\n",
      "Train Loss = 0.1446\n",
      "Train Accuracy = 95.64292121212121 % \n",
      "\n",
      "Val Loss = 0.8319\n",
      "Val Accuracy = 85.622 % \n",
      "\n"
     ]
    },
    {
     "name": "stderr",
     "output_type": "stream",
     "text": [
      "100%|█████████████████████████████████████████| 198/198 [01:16<00:00,  2.58it/s]\n",
      "100%|█████████████████████████████████████████████| 8/8 [00:01<00:00,  5.76it/s]\n"
     ]
    },
    {
     "name": "stdout",
     "output_type": "stream",
     "text": [
      "** Epoch 65 ** - Epoch Time 78\n",
      "Train Loss = 0.1471\n",
      "Train Accuracy = 95.65870404040403 % \n",
      "\n",
      "Val Loss = 0.8381\n",
      "Val Accuracy = 85.622 % \n",
      "\n"
     ]
    },
    {
     "name": "stderr",
     "output_type": "stream",
     "text": [
      "100%|█████████████████████████████████████████| 198/198 [01:16<00:00,  2.60it/s]\n",
      "100%|█████████████████████████████████████████████| 8/8 [00:01<00:00,  5.76it/s]\n"
     ]
    },
    {
     "name": "stdout",
     "output_type": "stream",
     "text": [
      "** Epoch 66 ** - Epoch Time 77\n",
      "Train Loss = 0.1457\n",
      "Train Accuracy = 95.6986702020202 % \n",
      "\n",
      "Val Loss = 0.9009\n",
      "Val Accuracy = 85.576925 % \n",
      "\n"
     ]
    },
    {
     "name": "stderr",
     "output_type": "stream",
     "text": [
      "100%|█████████████████████████████████████████| 198/198 [01:16<00:00,  2.61it/s]\n",
      "100%|█████████████████████████████████████████████| 8/8 [00:01<00:00,  5.87it/s]\n"
     ]
    },
    {
     "name": "stdout",
     "output_type": "stream",
     "text": [
      "** Epoch 67 ** - Epoch Time 77\n",
      "Train Loss = 0.1462\n",
      "Train Accuracy = 95.71343484848485 % \n",
      "\n",
      "Val Loss = 0.8194\n",
      "Val Accuracy = 85.081125 % \n",
      "\n"
     ]
    },
    {
     "name": "stderr",
     "output_type": "stream",
     "text": [
      "100%|█████████████████████████████████████████| 198/198 [01:15<00:00,  2.62it/s]\n",
      "100%|█████████████████████████████████████████████| 8/8 [00:01<00:00,  5.59it/s]\n"
     ]
    },
    {
     "name": "stdout",
     "output_type": "stream",
     "text": [
      "** Epoch 68 ** - Epoch Time 77\n",
      "Train Loss = 0.1454\n",
      "Train Accuracy = 95.84911616161617 % \n",
      "\n",
      "Val Loss = 0.8729\n",
      "Val Accuracy = 86.9891875 % \n",
      "\n"
     ]
    },
    {
     "name": "stderr",
     "output_type": "stream",
     "text": [
      "100%|█████████████████████████████████████████| 198/198 [01:15<00:00,  2.61it/s]\n",
      "100%|█████████████████████████████████████████████| 8/8 [00:01<00:00,  5.59it/s]\n"
     ]
    },
    {
     "name": "stdout",
     "output_type": "stream",
     "text": [
      "** Epoch 69 ** - Epoch Time 77\n",
      "Train Loss = 0.1251\n",
      "Train Accuracy = 96.29790858585858 % \n",
      "\n",
      "Val Loss = 0.9995\n",
      "Val Accuracy = 84.55528749999999 % \n",
      "\n"
     ]
    },
    {
     "name": "stderr",
     "output_type": "stream",
     "text": [
      "100%|█████████████████████████████████████████| 198/198 [01:16<00:00,  2.60it/s]\n",
      "100%|█████████████████████████████████████████████| 8/8 [00:01<00:00,  5.75it/s]\n"
     ]
    },
    {
     "name": "stdout",
     "output_type": "stream",
     "text": [
      "** Epoch 70 ** - Epoch Time 77\n",
      "Train Loss = 0.127\n",
      "Train Accuracy = 96.4794111111111 % \n",
      "\n",
      "Val Loss = 0.7331\n",
      "Val Accuracy = 86.50841249999999 % \n",
      "\n"
     ]
    },
    {
     "name": "stderr",
     "output_type": "stream",
     "text": [
      "100%|█████████████████████████████████████████| 198/198 [01:15<00:00,  2.61it/s]\n",
      "100%|█████████████████████████████████████████████| 8/8 [00:01<00:00,  5.81it/s]\n"
     ]
    },
    {
     "name": "stdout",
     "output_type": "stream",
     "text": [
      "** Epoch 71 ** - Epoch Time 77\n",
      "Train Loss = 0.1212\n",
      "Train Accuracy = 96.4078792929293 % \n",
      "\n",
      "Val Loss = 0.9339\n",
      "Val Accuracy = 85.862375 % \n",
      "\n"
     ]
    },
    {
     "name": "stderr",
     "output_type": "stream",
     "text": [
      "100%|█████████████████████████████████████████| 198/198 [01:15<00:00,  2.61it/s]\n",
      "100%|█████████████████████████████████████████████| 8/8 [00:01<00:00,  5.91it/s]\n"
     ]
    },
    {
     "name": "stdout",
     "output_type": "stream",
     "text": [
      "** Epoch 72 ** - Epoch Time 77\n",
      "Train Loss = 0.1409\n",
      "Train Accuracy = 95.99014343434344 % \n",
      "\n",
      "Val Loss = 1.0019\n",
      "Val Accuracy = 83.96934999999999 % \n",
      "\n"
     ]
    },
    {
     "name": "stderr",
     "output_type": "stream",
     "text": [
      "100%|█████████████████████████████████████████| 198/198 [01:15<00:00,  2.63it/s]\n",
      "100%|█████████████████████████████████████████████| 8/8 [00:01<00:00,  5.90it/s]\n"
     ]
    },
    {
     "name": "stdout",
     "output_type": "stream",
     "text": [
      "** Epoch 73 ** - Epoch Time 76\n",
      "Train Loss = 0.1065\n",
      "Train Accuracy = 97.04708383838384 % \n",
      "\n",
      "Val Loss = 0.9351\n",
      "Val Accuracy = 85.3215125 % \n",
      "\n"
     ]
    },
    {
     "name": "stderr",
     "output_type": "stream",
     "text": [
      "100%|█████████████████████████████████████████| 198/198 [01:15<00:00,  2.62it/s]\n",
      "100%|█████████████████████████████████████████████| 8/8 [00:01<00:00,  5.85it/s]\n"
     ]
    },
    {
     "name": "stdout",
     "output_type": "stream",
     "text": [
      "** Epoch 74 ** - Epoch Time 76\n",
      "Train Loss = 0.1339\n",
      "Train Accuracy = 96.38522323232323 % \n",
      "\n",
      "Val Loss = 0.9205\n",
      "Val Accuracy = 84.3149 % \n",
      "\n"
     ]
    },
    {
     "name": "stderr",
     "output_type": "stream",
     "text": [
      "100%|█████████████████████████████████████████| 198/198 [01:15<00:00,  2.62it/s]\n",
      "100%|█████████████████████████████████████████████| 8/8 [00:01<00:00,  5.86it/s]\n"
     ]
    },
    {
     "name": "stdout",
     "output_type": "stream",
     "text": [
      "** Epoch 75 ** - Epoch Time 76\n",
      "Train Loss = 0.1082\n",
      "Train Accuracy = 97.031301010101 % \n",
      "\n",
      "Val Loss = 0.8347\n",
      "Val Accuracy = 85.15625 % \n",
      "\n"
     ]
    },
    {
     "name": "stderr",
     "output_type": "stream",
     "text": [
      "100%|█████████████████████████████████████████| 198/198 [01:15<00:00,  2.63it/s]\n",
      "100%|█████████████████████████████████████████████| 8/8 [00:01<00:00,  5.60it/s]\n"
     ]
    },
    {
     "name": "stdout",
     "output_type": "stream",
     "text": [
      "** Epoch 76 ** - Epoch Time 76\n",
      "Train Loss = 0.1136\n",
      "Train Accuracy = 96.68560606060606 % \n",
      "\n",
      "Val Loss = 0.8807\n",
      "Val Accuracy = 83.4284875 % \n",
      "\n"
     ]
    },
    {
     "name": "stderr",
     "output_type": "stream",
     "text": [
      "100%|█████████████████████████████████████████| 198/198 [01:15<00:00,  2.63it/s]\n",
      "100%|█████████████████████████████████████████████| 8/8 [00:01<00:00,  5.82it/s]\n"
     ]
    },
    {
     "name": "stdout",
     "output_type": "stream",
     "text": [
      "** Epoch 77 ** - Epoch Time 76\n",
      "Train Loss = 0.1238\n",
      "Train Accuracy = 96.47890202020201 % \n",
      "\n",
      "Val Loss = 0.7669\n",
      "Val Accuracy = 86.40325 % \n",
      "\n"
     ]
    },
    {
     "name": "stderr",
     "output_type": "stream",
     "text": [
      "100%|█████████████████████████████████████████| 198/198 [01:15<00:00,  2.63it/s]\n",
      "100%|█████████████████████████████████████████████| 8/8 [00:01<00:00,  5.74it/s]\n"
     ]
    },
    {
     "name": "stdout",
     "output_type": "stream",
     "text": [
      "** Epoch 78 ** - Epoch Time 76\n",
      "Train Loss = 0.1337\n",
      "Train Accuracy = 96.12480656565657 % \n",
      "\n",
      "Val Loss = 0.8451\n",
      "Val Accuracy = 85.2464 % \n",
      "\n"
     ]
    },
    {
     "name": "stderr",
     "output_type": "stream",
     "text": [
      "100%|█████████████████████████████████████████| 198/198 [01:15<00:00,  2.63it/s]\n",
      "100%|█████████████████████████████████████████████| 8/8 [00:01<00:00,  5.87it/s]\n"
     ]
    },
    {
     "name": "stdout",
     "output_type": "stream",
     "text": [
      "** Epoch 79 ** - Epoch Time 76\n",
      "Train Loss = 0.1196\n",
      "Train Accuracy = 96.63774848484849 % \n",
      "\n",
      "Val Loss = 0.9612\n",
      "Val Accuracy = 86.0727125 % \n",
      "\n"
     ]
    },
    {
     "name": "stderr",
     "output_type": "stream",
     "text": [
      "100%|█████████████████████████████████████████| 198/198 [01:15<00:00,  2.62it/s]\n",
      "100%|█████████████████████████████████████████████| 8/8 [00:01<00:00,  5.64it/s]\n"
     ]
    },
    {
     "name": "stdout",
     "output_type": "stream",
     "text": [
      "** Epoch 80 ** - Epoch Time 76\n",
      "Train Loss = 0.1219\n",
      "Train Accuracy = 96.51199494949495 % \n",
      "\n",
      "Val Loss = 1.0233\n",
      "Val Accuracy = 84.6905 % \n",
      "\n"
     ]
    },
    {
     "name": "stderr",
     "output_type": "stream",
     "text": [
      "100%|█████████████████████████████████████████| 198/198 [01:15<00:00,  2.63it/s]\n",
      "100%|█████████████████████████████████████████████| 8/8 [00:01<00:00,  5.85it/s]\n"
     ]
    },
    {
     "name": "stdout",
     "output_type": "stream",
     "text": [
      "** Epoch 81 ** - Epoch Time 76\n",
      "Train Loss = 0.113\n",
      "Train Accuracy = 96.7087712121212 % \n",
      "\n",
      "Val Loss = 1.046\n",
      "Val Accuracy = 83.8792125 % \n",
      "\n"
     ]
    },
    {
     "name": "stderr",
     "output_type": "stream",
     "text": [
      "100%|█████████████████████████████████████████| 198/198 [01:15<00:00,  2.63it/s]\n",
      "100%|█████████████████████████████████████████████| 8/8 [00:01<00:00,  5.38it/s]\n"
     ]
    },
    {
     "name": "stdout",
     "output_type": "stream",
     "text": [
      "** Epoch 82 ** - Epoch Time 76\n",
      "Train Loss = 0.1181\n",
      "Train Accuracy = 96.96918787878788 % \n",
      "\n",
      "Val Loss = 0.7486\n",
      "Val Accuracy = 87.53005 % \n",
      "\n"
     ]
    },
    {
     "name": "stderr",
     "output_type": "stream",
     "text": [
      "100%|█████████████████████████████████████████| 198/198 [01:16<00:00,  2.60it/s]\n",
      "100%|█████████████████████████████████████████████| 8/8 [00:01<00:00,  5.78it/s]\n"
     ]
    },
    {
     "name": "stdout",
     "output_type": "stream",
     "text": [
      "** Epoch 83 ** - Epoch Time 77\n",
      "Train Loss = 0.1154\n",
      "Train Accuracy = 96.84343434343434 % \n",
      "\n",
      "Val Loss = 0.9568\n",
      "Val Accuracy = 85.6670625 % \n",
      "\n"
     ]
    },
    {
     "name": "stderr",
     "output_type": "stream",
     "text": [
      "100%|█████████████████████████████████████████| 198/198 [01:16<00:00,  2.60it/s]\n",
      "100%|█████████████████████████████████████████████| 8/8 [00:01<00:00,  5.80it/s]\n"
     ]
    },
    {
     "name": "stdout",
     "output_type": "stream",
     "text": [
      "** Epoch 84 ** - Epoch Time 77\n",
      "Train Loss = 0.1252\n",
      "Train Accuracy = 96.61203787878787 % \n",
      "\n",
      "Val Loss = 0.9984\n",
      "Val Accuracy = 85.92247499999999 % \n",
      "\n"
     ]
    },
    {
     "name": "stderr",
     "output_type": "stream",
     "text": [
      "100%|█████████████████████████████████████████| 198/198 [01:15<00:00,  2.61it/s]\n",
      "100%|█████████████████████████████████████████████| 8/8 [00:01<00:00,  5.67it/s]\n"
     ]
    },
    {
     "name": "stdout",
     "output_type": "stream",
     "text": [
      "** Epoch 85 ** - Epoch Time 77\n",
      "Train Loss = 0.1303\n",
      "Train Accuracy = 96.37733181818182 % \n",
      "\n",
      "Val Loss = 0.7937\n",
      "Val Accuracy = 86.89903749999999 % \n",
      "\n"
     ]
    },
    {
     "name": "stderr",
     "output_type": "stream",
     "text": [
      "100%|█████████████████████████████████████████| 198/198 [01:16<00:00,  2.60it/s]\n",
      "100%|█████████████████████████████████████████████| 8/8 [00:01<00:00,  5.55it/s]\n"
     ]
    },
    {
     "name": "stdout",
     "output_type": "stream",
     "text": [
      "** Epoch 86 ** - Epoch Time 77\n",
      "Train Loss = 0.1042\n",
      "Train Accuracy = 97.19854797979798 % \n",
      "\n",
      "Val Loss = 0.9095\n",
      "Val Accuracy = 87.2295625 % \n",
      "\n"
     ]
    },
    {
     "name": "stderr",
     "output_type": "stream",
     "text": [
      "100%|█████████████████████████████████████████| 198/198 [01:16<00:00,  2.60it/s]\n",
      "100%|█████████████████████████████████████████████| 8/8 [00:01<00:00,  5.86it/s]\n"
     ]
    },
    {
     "name": "stdout",
     "output_type": "stream",
     "text": [
      "** Epoch 87 ** - Epoch Time 77\n",
      "Train Loss = 0.1005\n",
      "Train Accuracy = 97.34797575757575 % \n",
      "\n",
      "Val Loss = 1.2533\n",
      "Val Accuracy = 83.77403749999999 % \n",
      "\n"
     ]
    },
    {
     "name": "stderr",
     "output_type": "stream",
     "text": [
      "100%|█████████████████████████████████████████| 198/198 [01:15<00:00,  2.61it/s]\n",
      "100%|█████████████████████████████████████████████| 8/8 [00:01<00:00,  5.89it/s]\n"
     ]
    },
    {
     "name": "stdout",
     "output_type": "stream",
     "text": [
      "** Epoch 88 ** - Epoch Time 77\n",
      "Train Loss = 0.1169\n",
      "Train Accuracy = 96.81186868686869 % \n",
      "\n",
      "Val Loss = 0.9324\n",
      "Val Accuracy = 83.38341249999999 % \n",
      "\n"
     ]
    },
    {
     "name": "stderr",
     "output_type": "stream",
     "text": [
      "100%|█████████████████████████████████████████| 198/198 [01:15<00:00,  2.63it/s]\n",
      "100%|█████████████████████████████████████████████| 8/8 [00:01<00:00,  5.71it/s]\n"
     ]
    },
    {
     "name": "stdout",
     "output_type": "stream",
     "text": [
      "** Epoch 89 ** - Epoch Time 76\n",
      "Train Loss = 0.0977\n",
      "Train Accuracy = 97.3164101010101 % \n",
      "\n",
      "Val Loss = 0.9257\n",
      "Val Accuracy = 83.6839 % \n",
      "\n"
     ]
    },
    {
     "name": "stderr",
     "output_type": "stream",
     "text": [
      "100%|█████████████████████████████████████████| 198/198 [01:15<00:00,  2.62it/s]\n",
      "100%|█████████████████████████████████████████████| 8/8 [00:01<00:00,  5.86it/s]\n"
     ]
    },
    {
     "name": "stdout",
     "output_type": "stream",
     "text": [
      "** Epoch 90 ** - Epoch Time 76\n",
      "Train Loss = 0.0991\n",
      "Train Accuracy = 97.39532424242424 % \n",
      "\n",
      "Val Loss = 1.0667\n",
      "Val Accuracy = 83.8641875 % \n",
      "\n"
     ]
    },
    {
     "name": "stderr",
     "output_type": "stream",
     "text": [
      "100%|█████████████████████████████████████████| 198/198 [01:15<00:00,  2.63it/s]\n",
      "100%|█████████████████████████████████████████████| 8/8 [00:01<00:00,  6.10it/s]\n"
     ]
    },
    {
     "name": "stdout",
     "output_type": "stream",
     "text": [
      "** Epoch 91 ** - Epoch Time 76\n",
      "Train Loss = 0.1205\n",
      "Train Accuracy = 96.875 % \n",
      "\n",
      "Val Loss = 0.8021\n",
      "Val Accuracy = 84.75059999999999 % \n",
      "\n"
     ]
    },
    {
     "name": "stderr",
     "output_type": "stream",
     "text": [
      "100%|█████████████████████████████████████████| 198/198 [01:15<00:00,  2.61it/s]\n",
      "100%|█████████████████████████████████████████████| 8/8 [00:01<00:00,  5.74it/s]\n"
     ]
    },
    {
     "name": "stdout",
     "output_type": "stream",
     "text": [
      "** Epoch 92 ** - Epoch Time 77\n",
      "Train Loss = 0.1054\n",
      "Train Accuracy = 96.98446161616161 % \n",
      "\n",
      "Val Loss = 0.9759\n",
      "Val Accuracy = 86.418275 % \n",
      "\n"
     ]
    },
    {
     "name": "stderr",
     "output_type": "stream",
     "text": [
      "100%|█████████████████████████████████████████| 198/198 [01:15<00:00,  2.61it/s]\n",
      "100%|█████████████████████████████████████████████| 8/8 [00:01<00:00,  5.82it/s]\n"
     ]
    },
    {
     "name": "stdout",
     "output_type": "stream",
     "text": [
      "** Epoch 93 ** - Epoch Time 77\n",
      "Train Loss = 0.1108\n",
      "Train Accuracy = 96.88976464646464 % \n",
      "\n",
      "Val Loss = 0.898\n",
      "Val Accuracy = 86.71875 % \n",
      "\n"
     ]
    },
    {
     "name": "stderr",
     "output_type": "stream",
     "text": [
      "100%|█████████████████████████████████████████| 198/198 [01:15<00:00,  2.61it/s]\n",
      "100%|█████████████████████████████████████████████| 8/8 [00:01<00:00,  5.67it/s]\n"
     ]
    },
    {
     "name": "stdout",
     "output_type": "stream",
     "text": [
      "** Epoch 94 ** - Epoch Time 77\n",
      "Train Loss = 0.1258\n",
      "Train Accuracy = 96.81925101010101 % \n",
      "\n",
      "Val Loss = 0.8262\n",
      "Val Accuracy = 87.7704375 % \n",
      "\n"
     ]
    },
    {
     "name": "stderr",
     "output_type": "stream",
     "text": [
      "100%|█████████████████████████████████████████| 198/198 [01:15<00:00,  2.62it/s]\n",
      "100%|█████████████████████████████████████████████| 8/8 [00:01<00:00,  5.80it/s]\n"
     ]
    },
    {
     "name": "stdout",
     "output_type": "stream",
     "text": [
      "** Epoch 95 ** - Epoch Time 76\n",
      "Train Loss = 0.1147\n",
      "Train Accuracy = 97.04021060606061 % \n",
      "\n",
      "Val Loss = 0.9155\n",
      "Val Accuracy = 86.0576875 % \n",
      "\n"
     ]
    },
    {
     "name": "stderr",
     "output_type": "stream",
     "text": [
      "100%|█████████████████████████████████████████| 198/198 [01:15<00:00,  2.61it/s]\n",
      "100%|█████████████████████████████████████████████| 8/8 [00:01<00:00,  5.77it/s]\n"
     ]
    },
    {
     "name": "stdout",
     "output_type": "stream",
     "text": [
      "** Epoch 96 ** - Epoch Time 77\n",
      "Train Loss = 0.0857\n",
      "Train Accuracy = 97.35586717171716 % \n",
      "\n",
      "Val Loss = 0.962\n",
      "Val Accuracy = 85.231375 % \n",
      "\n"
     ]
    },
    {
     "name": "stderr",
     "output_type": "stream",
     "text": [
      "100%|█████████████████████████████████████████| 198/198 [01:16<00:00,  2.59it/s]\n",
      "100%|█████████████████████████████████████████████| 8/8 [00:01<00:00,  5.59it/s]\n"
     ]
    },
    {
     "name": "stdout",
     "output_type": "stream",
     "text": [
      "** Epoch 97 ** - Epoch Time 77\n",
      "Train Loss = 0.0874\n",
      "Train Accuracy = 97.52998737373737 % \n",
      "\n",
      "Val Loss = 0.8954\n",
      "Val Accuracy = 86.5985625 % \n",
      "\n"
     ]
    },
    {
     "name": "stderr",
     "output_type": "stream",
     "text": [
      "100%|█████████████████████████████████████████| 198/198 [01:15<00:00,  2.61it/s]\n",
      "100%|█████████████████████████████████████████████| 8/8 [00:01<00:00,  5.71it/s]\n"
     ]
    },
    {
     "name": "stdout",
     "output_type": "stream",
     "text": [
      "** Epoch 98 ** - Epoch Time 77\n",
      "Train Loss = 0.106\n",
      "Train Accuracy = 97.06388484848485 % \n",
      "\n",
      "Val Loss = 0.9931\n",
      "Val Accuracy = 84.1045625 % \n",
      "\n"
     ]
    },
    {
     "name": "stderr",
     "output_type": "stream",
     "text": [
      "100%|█████████████████████████████████████████| 198/198 [01:16<00:00,  2.59it/s]\n",
      "100%|█████████████████████████████████████████████| 8/8 [00:01<00:00,  5.76it/s]\n"
     ]
    },
    {
     "name": "stdout",
     "output_type": "stream",
     "text": [
      "** Epoch 99 ** - Epoch Time 77\n",
      "Train Loss = 0.1069\n",
      "Train Accuracy = 97.28484444444445 % \n",
      "\n",
      "Val Loss = 1.022\n",
      "Val Accuracy = 84.9909875 % \n",
      "\n"
     ]
    },
    {
     "name": "stderr",
     "output_type": "stream",
     "text": [
      "100%|███████████████████████████████████████████| 10/10 [00:01<00:00,  7.59it/s]\n",
      "No artists with labels found to put in legend.  Note that artists whose label start with an underscore are ignored when legend() is called with no argument.\n"
     ]
    },
    {
     "data": {
      "image/png": "[encoded data removed]",
      "text/plain": [
       "<Figure size 640x480 with 2 Axes>"
      ]
     },
     "metadata": {},
     "output_type": "display_data"
    },
    {
     "name": "stdout",
     "output_type": "stream",
     "text": [
      "train acc: 97.28\n",
      "valid acc: 84.99\n",
      "test acc: 90.8\n"
     ]
    }
   ],
   "source": [
    "torch.cuda.empty_cache()\n",
    "train_data_loader, valid_data_loader, test_data_loader = create_data_set(True)\n",
    "\n",
    "VGG16_BDA = create_vgg16_model(is_batch=True, is_dropout= True)\n",
    "details = create_model_details(VGG16_BDA, 100, lr=1e-3)\n",
    "result = train_model(details, \"VGG16_BDA\")\n",
    "show_result(result, \"VGG16_BDA\")"
   ]
  },
  {
   "cell_type": "code",
   "execution_count": 11,
   "id": "c7aa0c7f",
   "metadata": {},
   "outputs": [
    {
     "name": "stderr",
     "output_type": "stream",
     "text": [
      "2023-01-05 08:35:54.524909: I tensorflow/stream_executor/platform/default/dso_loader.cc:49] Successfully opened dynamic library libcudart.so.10.1\n",
      "100%|█████████████████████████████████████████| 198/198 [01:27<00:00,  2.27it/s]\n",
      "100%|█████████████████████████████████████████████| 8/8 [00:01<00:00,  5.04it/s]\n"
     ]
    },
    {
     "name": "stdout",
     "output_type": "stream",
     "text": [
      "** Epoch 0 ** - Epoch Time 88\n",
      "Train Loss = 5.0565\n",
      "Train Accuracy = 3.087070202020202 % \n",
      "\n",
      "Val Loss = 4.0936\n",
      "Val Accuracy = 4.672475 % \n",
      "\n"
     ]
    },
    {
     "name": "stderr",
     "output_type": "stream",
     "text": [
      "100%|█████████████████████████████████████████| 198/198 [01:26<00:00,  2.30it/s]\n",
      "100%|█████████████████████████████████████████████| 8/8 [00:01<00:00,  5.21it/s]\n"
     ]
    },
    {
     "name": "stdout",
     "output_type": "stream",
     "text": [
      "** Epoch 1 ** - Epoch Time 87\n",
      "Train Loss = 3.9041\n",
      "Train Accuracy = 9.116619696969696 % \n",
      "\n",
      "Val Loss = 3.4903\n",
      "Val Accuracy = 16.09075 % \n",
      "\n"
     ]
    },
    {
     "name": "stderr",
     "output_type": "stream",
     "text": [
      "100%|█████████████████████████████████████████| 198/198 [01:26<00:00,  2.29it/s]\n",
      "100%|█████████████████████████████████████████████| 8/8 [00:01<00:00,  5.19it/s]\n"
     ]
    },
    {
     "name": "stdout",
     "output_type": "stream",
     "text": [
      "** Epoch 2 ** - Epoch Time 88\n",
      "Train Loss = 3.4156\n",
      "Train Accuracy = 16.464035353535355 % \n",
      "\n",
      "Val Loss = 3.0214\n",
      "Val Accuracy = 22.1905 % \n",
      "\n"
     ]
    },
    {
     "name": "stderr",
     "output_type": "stream",
     "text": [
      "100%|█████████████████████████████████████████| 198/198 [01:26<00:00,  2.29it/s]\n",
      "100%|█████████████████████████████████████████████| 8/8 [00:01<00:00,  5.22it/s]\n"
     ]
    },
    {
     "name": "stdout",
     "output_type": "stream",
     "text": [
      "** Epoch 3 ** - Epoch Time 87\n",
      "Train Loss = 3.025\n",
      "Train Accuracy = 23.955533333333335 % \n",
      "\n",
      "Val Loss = 2.7885\n",
      "Val Accuracy = 31.3852125 % \n",
      "\n"
     ]
    },
    {
     "name": "stderr",
     "output_type": "stream",
     "text": [
      "100%|█████████████████████████████████████████| 198/198 [01:25<00:00,  2.31it/s]\n",
      "100%|█████████████████████████████████████████████| 8/8 [00:01<00:00,  5.30it/s]\n"
     ]
    },
    {
     "name": "stdout",
     "output_type": "stream",
     "text": [
      "** Epoch 4 ** - Epoch Time 87\n",
      "Train Loss = 2.7252\n",
      "Train Accuracy = 30.380162626262624 % \n",
      "\n",
      "Val Loss = 2.6569\n",
      "Val Accuracy = 34.5102125 % \n",
      "\n"
     ]
    },
    {
     "name": "stderr",
     "output_type": "stream",
     "text": [
      "100%|█████████████████████████████████████████| 198/198 [01:26<00:00,  2.30it/s]\n",
      "100%|█████████████████████████████████████████████| 8/8 [00:01<00:00,  5.35it/s]\n"
     ]
    },
    {
     "name": "stdout",
     "output_type": "stream",
     "text": [
      "** Epoch 5 ** - Epoch Time 87\n",
      "Train Loss = 3.0028\n",
      "Train Accuracy = 26.038357575757576 % \n",
      "\n",
      "Val Loss = 2.5485\n",
      "Val Accuracy = 36.358175 % \n",
      "\n"
     ]
    },
    {
     "name": "stderr",
     "output_type": "stream",
     "text": [
      "100%|█████████████████████████████████████████| 198/198 [01:25<00:00,  2.32it/s]\n",
      "100%|█████████████████████████████████████████████| 8/8 [00:01<00:00,  5.02it/s]\n"
     ]
    },
    {
     "name": "stdout",
     "output_type": "stream",
     "text": [
      "** Epoch 6 ** - Epoch Time 86\n",
      "Train Loss = 2.4015\n",
      "Train Accuracy = 37.293550505050504 % \n",
      "\n",
      "Val Loss = 2.1134\n",
      "Val Accuracy = 44.110575 % \n",
      "\n"
     ]
    },
    {
     "name": "stderr",
     "output_type": "stream",
     "text": [
      "100%|█████████████████████████████████████████| 198/198 [01:25<00:00,  2.32it/s]\n",
      "100%|█████████████████████████████████████████████| 8/8 [00:01<00:00,  5.15it/s]\n"
     ]
    },
    {
     "name": "stdout",
     "output_type": "stream",
     "text": [
      "** Epoch 7 ** - Epoch Time 86\n",
      "Train Loss = 2.1881\n",
      "Train Accuracy = 42.21244696969697 % \n",
      "\n",
      "Val Loss = 1.9991\n",
      "Val Accuracy = 47.0102125 % \n",
      "\n"
     ]
    },
    {
     "name": "stderr",
     "output_type": "stream",
     "text": [
      "100%|█████████████████████████████████████████| 198/198 [01:25<00:00,  2.32it/s]\n",
      "100%|█████████████████████████████████████████████| 8/8 [00:01<00:00,  5.18it/s]\n"
     ]
    },
    {
     "name": "stdout",
     "output_type": "stream",
     "text": [
      "** Epoch 8 ** - Epoch Time 87\n",
      "Train Loss = 2.0127\n",
      "Train Accuracy = 46.449118181818186 % \n",
      "\n",
      "Val Loss = 1.7611\n",
      "Val Accuracy = 51.7427875 % \n",
      "\n"
     ]
    },
    {
     "name": "stderr",
     "output_type": "stream",
     "text": [
      "100%|█████████████████████████████████████████| 198/198 [01:25<00:00,  2.32it/s]\n",
      "100%|█████████████████████████████████████████████| 8/8 [00:01<00:00,  5.28it/s]\n"
     ]
    },
    {
     "name": "stdout",
     "output_type": "stream",
     "text": [
      "** Epoch 9 ** - Epoch Time 86\n",
      "Train Loss = 1.8423\n",
      "Train Accuracy = 50.52897929292929 % \n",
      "\n",
      "Val Loss = 1.7052\n",
      "Val Accuracy = 54.4170625 % \n",
      "\n"
     ]
    },
    {
     "name": "stderr",
     "output_type": "stream",
     "text": [
      "100%|█████████████████████████████████████████| 198/198 [01:25<00:00,  2.31it/s]\n",
      "100%|█████████████████████████████████████████████| 8/8 [00:01<00:00,  5.25it/s]\n"
     ]
    },
    {
     "name": "stdout",
     "output_type": "stream",
     "text": [
      "** Epoch 10 ** - Epoch Time 87\n",
      "Train Loss = 1.7096\n",
      "Train Accuracy = 53.8191898989899 % \n",
      "\n",
      "Val Loss = 1.6415\n",
      "Val Accuracy = 57.9326875 % \n",
      "\n"
     ]
    },
    {
     "name": "stderr",
     "output_type": "stream",
     "text": [
      "100%|█████████████████████████████████████████| 198/198 [01:25<00:00,  2.32it/s]\n",
      "100%|█████████████████████████████████████████████| 8/8 [00:01<00:00,  5.47it/s]\n"
     ]
    },
    {
     "name": "stdout",
     "output_type": "stream",
     "text": [
      "** Epoch 11 ** - Epoch Time 86\n",
      "Train Loss = 1.6178\n",
      "Train Accuracy = 55.830482323232324 % \n",
      "\n",
      "Val Loss = 1.5067\n",
      "Val Accuracy = 58.0528875 % \n",
      "\n"
     ]
    },
    {
     "name": "stderr",
     "output_type": "stream",
     "text": [
      "100%|█████████████████████████████████████████| 198/198 [01:25<00:00,  2.32it/s]\n",
      "100%|█████████████████████████████████████████████| 8/8 [00:01<00:00,  5.33it/s]\n"
     ]
    },
    {
     "name": "stdout",
     "output_type": "stream",
     "text": [
      "** Epoch 12 ** - Epoch Time 86\n",
      "Train Loss = 1.4708\n",
      "Train Accuracy = 59.52722777777778 % \n",
      "\n",
      "Val Loss = 1.3745\n",
      "Val Accuracy = 63.97235 % \n",
      "\n"
     ]
    },
    {
     "name": "stderr",
     "output_type": "stream",
     "text": [
      "100%|█████████████████████████████████████████| 198/198 [01:26<00:00,  2.29it/s]\n",
      "100%|█████████████████████████████████████████████| 8/8 [00:01<00:00,  4.98it/s]\n"
     ]
    },
    {
     "name": "stdout",
     "output_type": "stream",
     "text": [
      "** Epoch 13 ** - Epoch Time 88\n",
      "Train Loss = 1.4159\n",
      "Train Accuracy = 61.14700454545454 % \n",
      "\n",
      "Val Loss = 1.3495\n",
      "Val Accuracy = 65.204325 % \n",
      "\n"
     ]
    },
    {
     "name": "stderr",
     "output_type": "stream",
     "text": [
      "100%|█████████████████████████████████████████| 198/198 [01:25<00:00,  2.32it/s]\n",
      "100%|█████████████████████████████████████████████| 8/8 [00:01<00:00,  5.36it/s]\n"
     ]
    },
    {
     "name": "stdout",
     "output_type": "stream",
     "text": [
      "** Epoch 14 ** - Epoch Time 86\n",
      "Train Loss = 1.6307\n",
      "Train Accuracy = 56.345969696969696 % \n",
      "\n",
      "Val Loss = 1.4774\n",
      "Val Accuracy = 62.03425 % \n",
      "\n"
     ]
    },
    {
     "name": "stderr",
     "output_type": "stream",
     "text": [
      "100%|█████████████████████████████████████████| 198/198 [01:25<00:00,  2.32it/s]\n",
      "100%|█████████████████████████████████████████████| 8/8 [00:01<00:00,  5.28it/s]\n"
     ]
    },
    {
     "name": "stdout",
     "output_type": "stream",
     "text": [
      "** Epoch 15 ** - Epoch Time 86\n",
      "Train Loss = 1.3662\n",
      "Train Accuracy = 62.50076363636364 % \n",
      "\n",
      "Val Loss = 1.2843\n",
      "Val Accuracy = 67.09735 % \n",
      "\n"
     ]
    },
    {
     "name": "stderr",
     "output_type": "stream",
     "text": [
      "100%|█████████████████████████████████████████| 198/198 [01:25<00:00,  2.30it/s]\n",
      "100%|█████████████████████████████████████████████| 8/8 [00:01<00:00,  5.26it/s]\n"
     ]
    },
    {
     "name": "stdout",
     "output_type": "stream",
     "text": [
      "** Epoch 16 ** - Epoch Time 87\n",
      "Train Loss = 1.2702\n",
      "Train Accuracy = 64.99445050505051 % \n",
      "\n",
      "Val Loss = 1.2321\n",
      "Val Accuracy = 67.09735 % \n",
      "\n"
     ]
    },
    {
     "name": "stderr",
     "output_type": "stream",
     "text": [
      "100%|█████████████████████████████████████████| 198/198 [01:25<00:00,  2.31it/s]\n",
      "100%|█████████████████████████████████████████████| 8/8 [00:01<00:00,  5.32it/s]\n"
     ]
    },
    {
     "name": "stdout",
     "output_type": "stream",
     "text": [
      "** Epoch 17 ** - Epoch Time 87\n",
      "Train Loss = 1.2058\n",
      "Train Accuracy = 66.72470656565658 % \n",
      "\n",
      "Val Loss = 1.1626\n",
      "Val Accuracy = 68.299275 % \n",
      "\n"
     ]
    },
    {
     "name": "stderr",
     "output_type": "stream",
     "text": [
      "100%|█████████████████████████████████████████| 198/198 [01:25<00:00,  2.32it/s]\n",
      "100%|█████████████████████████████████████████████| 8/8 [00:01<00:00,  5.26it/s]\n"
     ]
    },
    {
     "name": "stdout",
     "output_type": "stream",
     "text": [
      "** Epoch 18 ** - Epoch Time 86\n",
      "Train Loss = 1.1155\n",
      "Train Accuracy = 68.59497171717172 % \n",
      "\n",
      "Val Loss = 1.3508\n",
      "Val Accuracy = 69.200725 % \n",
      "\n"
     ]
    },
    {
     "name": "stderr",
     "output_type": "stream",
     "text": [
      "100%|█████████████████████████████████████████| 198/198 [01:25<00:00,  2.31it/s]\n",
      "100%|█████████████████████████████████████████████| 8/8 [00:01<00:00,  5.23it/s]\n"
     ]
    },
    {
     "name": "stdout",
     "output_type": "stream",
     "text": [
      "** Epoch 19 ** - Epoch Time 87\n",
      "Train Loss = 1.1203\n",
      "Train Accuracy = 69.2410494949495 % \n",
      "\n",
      "Val Loss = 1.0986\n",
      "Val Accuracy = 68.65985 % \n",
      "\n"
     ]
    },
    {
     "name": "stderr",
     "output_type": "stream",
     "text": [
      "100%|█████████████████████████████████████████| 198/198 [01:25<00:00,  2.31it/s]\n",
      "100%|█████████████████████████████████████████████| 8/8 [00:01<00:00,  5.17it/s]\n"
     ]
    },
    {
     "name": "stdout",
     "output_type": "stream",
     "text": [
      "** Epoch 20 ** - Epoch Time 87\n",
      "Train Loss = 1.039\n",
      "Train Accuracy = 71.0033808080808 % \n",
      "\n",
      "Val Loss = 1.1909\n",
      "Val Accuracy = 67.9387 % \n",
      "\n"
     ]
    },
    {
     "name": "stderr",
     "output_type": "stream",
     "text": [
      "100%|█████████████████████████████████████████| 198/198 [01:25<00:00,  2.33it/s]\n",
      "100%|█████████████████████████████████████████████| 8/8 [00:01<00:00,  5.24it/s]\n"
     ]
    },
    {
     "name": "stdout",
     "output_type": "stream",
     "text": [
      "** Epoch 21 ** - Epoch Time 86\n",
      "Train Loss = 0.9982\n",
      "Train Accuracy = 72.3286287878788 % \n",
      "\n",
      "Val Loss = 1.1855\n",
      "Val Accuracy = 69.53125 % \n",
      "\n"
     ]
    },
    {
     "name": "stderr",
     "output_type": "stream",
     "text": [
      "100%|█████████████████████████████████████████| 198/198 [01:25<00:00,  2.31it/s]\n",
      "100%|█████████████████████████████████████████████| 8/8 [00:01<00:00,  4.94it/s]\n"
     ]
    },
    {
     "name": "stdout",
     "output_type": "stream",
     "text": [
      "** Epoch 22 ** - Epoch Time 87\n",
      "Train Loss = 0.9267\n",
      "Train Accuracy = 73.37513232323232 % \n",
      "\n",
      "Val Loss = 1.0294\n",
      "Val Accuracy = 73.106975 % \n",
      "\n"
     ]
    },
    {
     "name": "stderr",
     "output_type": "stream",
     "text": [
      "100%|█████████████████████████████████████████| 198/198 [01:26<00:00,  2.29it/s]\n",
      "100%|█████████████████████████████████████████████| 8/8 [00:01<00:00,  4.99it/s]\n"
     ]
    },
    {
     "name": "stdout",
     "output_type": "stream",
     "text": [
      "** Epoch 23 ** - Epoch Time 87\n",
      "Train Loss = 1.2362\n",
      "Train Accuracy = 66.78045555555556 % \n",
      "\n",
      "Val Loss = 1.318\n",
      "Val Accuracy = 69.74158750000001 % \n",
      "\n"
     ]
    },
    {
     "name": "stderr",
     "output_type": "stream",
     "text": [
      "100%|█████████████████████████████████████████| 198/198 [01:26<00:00,  2.30it/s]\n",
      "100%|█████████████████████████████████████████████| 8/8 [00:01<00:00,  5.30it/s]\n"
     ]
    },
    {
     "name": "stdout",
     "output_type": "stream",
     "text": [
      "** Epoch 24 ** - Epoch Time 87\n",
      "Train Loss = 1.0287\n",
      "Train Accuracy = 71.50104898989899 % \n",
      "\n",
      "Val Loss = 1.1768\n",
      "Val Accuracy = 73.45252500000001 % \n",
      "\n"
     ]
    },
    {
     "name": "stderr",
     "output_type": "stream",
     "text": [
      "100%|█████████████████████████████████████████| 198/198 [01:25<00:00,  2.31it/s]\n",
      "100%|█████████████████████████████████████████████| 8/8 [00:01<00:00,  5.21it/s]\n"
     ]
    },
    {
     "name": "stdout",
     "output_type": "stream",
     "text": [
      "** Epoch 25 ** - Epoch Time 87\n",
      "Train Loss = 0.9058\n",
      "Train Accuracy = 74.28417222222222 % \n",
      "\n",
      "Val Loss = 1.1633\n",
      "Val Accuracy = 70.9585375 % \n",
      "\n"
     ]
    },
    {
     "name": "stderr",
     "output_type": "stream",
     "text": [
      "100%|█████████████████████████████████████████| 198/198 [01:25<00:00,  2.31it/s]\n",
      "100%|█████████████████████████████████████████████| 8/8 [00:01<00:00,  5.14it/s]\n"
     ]
    },
    {
     "name": "stdout",
     "output_type": "stream",
     "text": [
      "** Epoch 26 ** - Epoch Time 87\n",
      "Train Loss = 0.8201\n",
      "Train Accuracy = 76.85142777777777 % \n",
      "\n",
      "Val Loss = 1.1356\n",
      "Val Accuracy = 73.482575 % \n",
      "\n"
     ]
    },
    {
     "name": "stderr",
     "output_type": "stream",
     "text": [
      "100%|█████████████████████████████████████████| 198/198 [01:25<00:00,  2.31it/s]\n",
      "100%|█████████████████████████████████████████████| 8/8 [00:01<00:00,  5.27it/s]\n"
     ]
    },
    {
     "name": "stdout",
     "output_type": "stream",
     "text": [
      "** Epoch 27 ** - Epoch Time 87\n",
      "Train Loss = 0.8112\n",
      "Train Accuracy = 77.19712222222223 % \n",
      "\n",
      "Val Loss = 1.0148\n",
      "Val Accuracy = 72.47596250000001 % \n",
      "\n"
     ]
    },
    {
     "name": "stderr",
     "output_type": "stream",
     "text": [
      "100%|█████████████████████████████████████████| 198/198 [01:26<00:00,  2.30it/s]\n",
      "100%|█████████████████████████████████████████████| 8/8 [00:01<00:00,  5.21it/s]\n"
     ]
    },
    {
     "name": "stdout",
     "output_type": "stream",
     "text": [
      "** Epoch 28 ** - Epoch Time 87\n",
      "Train Loss = 0.9325\n",
      "Train Accuracy = 75.44675606060605 % \n",
      "\n",
      "Val Loss = 1.147\n",
      "Val Accuracy = 69.6364125 % \n",
      "\n"
     ]
    },
    {
     "name": "stderr",
     "output_type": "stream",
     "text": [
      "100%|█████████████████████████████████████████| 198/198 [01:26<00:00,  2.30it/s]\n",
      "100%|█████████████████████████████████████████████| 8/8 [00:01<00:00,  5.31it/s]\n"
     ]
    },
    {
     "name": "stdout",
     "output_type": "stream",
     "text": [
      "** Epoch 29 ** - Epoch Time 87\n",
      "Train Loss = 0.8441\n",
      "Train Accuracy = 77.78108686868687 % \n",
      "\n",
      "Val Loss = 1.0703\n",
      "Val Accuracy = 72.4609375 % \n",
      "\n"
     ]
    },
    {
     "name": "stderr",
     "output_type": "stream",
     "text": [
      "100%|█████████████████████████████████████████| 198/198 [01:25<00:00,  2.30it/s]\n",
      "100%|█████████████████████████████████████████████| 8/8 [00:01<00:00,  5.16it/s]\n"
     ]
    },
    {
     "name": "stdout",
     "output_type": "stream",
     "text": [
      "** Epoch 30 ** - Epoch Time 87\n",
      "Train Loss = 1.4985\n",
      "Train Accuracy = 67.70476969696969 % \n",
      "\n",
      "Val Loss = 1.2799\n",
      "Val Accuracy = 72.8064875 % \n",
      "\n"
     ]
    },
    {
     "name": "stderr",
     "output_type": "stream",
     "text": [
      "100%|█████████████████████████████████████████| 198/198 [01:26<00:00,  2.30it/s]\n",
      "100%|█████████████████████████████████████████████| 8/8 [00:01<00:00,  5.32it/s]\n"
     ]
    },
    {
     "name": "stdout",
     "output_type": "stream",
     "text": [
      "** Epoch 31 ** - Epoch Time 87\n",
      "Train Loss = 0.9686\n",
      "Train Accuracy = 74.98803535353537 % \n",
      "\n",
      "Val Loss = 1.1224\n",
      "Val Accuracy = 71.78485 % \n",
      "\n"
     ]
    },
    {
     "name": "stderr",
     "output_type": "stream",
     "text": [
      "100%|█████████████████████████████████████████| 198/198 [01:24<00:00,  2.33it/s]\n",
      "100%|█████████████████████████████████████████████| 8/8 [00:01<00:00,  5.34it/s]\n"
     ]
    },
    {
     "name": "stdout",
     "output_type": "stream",
     "text": [
      "** Epoch 32 ** - Epoch Time 86\n",
      "Train Loss = 0.9003\n",
      "Train Accuracy = 75.77514040404041 % \n",
      "\n",
      "Val Loss = 1.4\n",
      "Val Accuracy = 64.6484375 % \n",
      "\n"
     ]
    },
    {
     "name": "stderr",
     "output_type": "stream",
     "text": [
      "100%|█████████████████████████████████████████| 198/198 [01:25<00:00,  2.32it/s]\n",
      "100%|█████████████████████████████████████████████| 8/8 [00:01<00:00,  5.26it/s]\n"
     ]
    },
    {
     "name": "stdout",
     "output_type": "stream",
     "text": [
      "** Epoch 33 ** - Epoch Time 86\n",
      "Train Loss = 0.9606\n",
      "Train Accuracy = 74.3783601010101 % \n",
      "\n",
      "Val Loss = 1.3264\n",
      "Val Accuracy = 69.050475 % \n",
      "\n"
     ]
    },
    {
     "name": "stderr",
     "output_type": "stream",
     "text": [
      "100%|█████████████████████████████████████████| 198/198 [01:25<00:00,  2.31it/s]\n",
      "100%|█████████████████████████████████████████████| 8/8 [00:01<00:00,  5.10it/s]\n"
     ]
    },
    {
     "name": "stdout",
     "output_type": "stream",
     "text": [
      "** Epoch 34 ** - Epoch Time 87\n",
      "Train Loss = 0.9189\n",
      "Train Accuracy = 75.64887777777778 % \n",
      "\n",
      "Val Loss = 1.5676\n",
      "Val Accuracy = 63.34135 % \n",
      "\n"
     ]
    },
    {
     "name": "stderr",
     "output_type": "stream",
     "text": [
      "100%|█████████████████████████████████████████| 198/198 [01:25<00:00,  2.31it/s]\n",
      "100%|█████████████████████████████████████████████| 8/8 [00:01<00:00,  5.28it/s]\n"
     ]
    },
    {
     "name": "stdout",
     "output_type": "stream",
     "text": [
      "** Epoch 35 ** - Epoch Time 87\n",
      "Train Loss = 0.8022\n",
      "Train Accuracy = 77.67849848484849 % \n",
      "\n",
      "Val Loss = 1.1556\n",
      "Val Accuracy = 72.1304125 % \n",
      "\n"
     ]
    },
    {
     "name": "stderr",
     "output_type": "stream",
     "text": [
      "100%|█████████████████████████████████████████| 198/198 [01:26<00:00,  2.30it/s]\n",
      "100%|█████████████████████████████████████████████| 8/8 [00:01<00:00,  5.25it/s]\n"
     ]
    },
    {
     "name": "stdout",
     "output_type": "stream",
     "text": [
      "** Epoch 36 ** - Epoch Time 87\n",
      "Train Loss = 1.2351\n",
      "Train Accuracy = 68.68966868686869 % \n",
      "\n",
      "Val Loss = 1.2639\n",
      "Val Accuracy = 68.1340125 % \n",
      "\n"
     ]
    },
    {
     "name": "stderr",
     "output_type": "stream",
     "text": [
      "100%|█████████████████████████████████████████| 198/198 [01:24<00:00,  2.33it/s]\n",
      "100%|█████████████████████████████████████████████| 8/8 [00:01<00:00,  5.37it/s]\n"
     ]
    },
    {
     "name": "stdout",
     "output_type": "stream",
     "text": [
      "** Epoch 37 ** - Epoch Time 86\n",
      "Train Loss = 1.4571\n",
      "Train Accuracy = 63.54930353535354 % \n",
      "\n",
      "Val Loss = 1.7192\n",
      "Val Accuracy = 57.8726 % \n",
      "\n"
     ]
    },
    {
     "name": "stderr",
     "output_type": "stream",
     "text": [
      "100%|█████████████████████████████████████████| 198/198 [01:25<00:00,  2.31it/s]\n",
      "100%|█████████████████████████████████████████████| 8/8 [00:01<00:00,  5.01it/s]\n"
     ]
    },
    {
     "name": "stdout",
     "output_type": "stream",
     "text": [
      "** Epoch 38 ** - Epoch Time 87\n",
      "Train Loss = 1.5836\n",
      "Train Accuracy = 59.63821666666667 % \n",
      "\n",
      "Val Loss = 1.1366\n",
      "Val Accuracy = 74.549275 % \n",
      "\n"
     ]
    },
    {
     "name": "stderr",
     "output_type": "stream",
     "text": [
      "100%|█████████████████████████████████████████| 198/198 [01:25<00:00,  2.31it/s]\n",
      "100%|█████████████████████████████████████████████| 8/8 [00:01<00:00,  5.22it/s]\n"
     ]
    },
    {
     "name": "stdout",
     "output_type": "stream",
     "text": [
      "** Epoch 39 ** - Epoch Time 87\n",
      "Train Loss = 0.812\n",
      "Train Accuracy = 77.35444141414142 % \n",
      "\n",
      "Val Loss = 1.0272\n",
      "Val Accuracy = 73.4375 % \n",
      "\n"
     ]
    },
    {
     "name": "stderr",
     "output_type": "stream",
     "text": [
      "100%|█████████████████████████████████████████| 198/198 [01:26<00:00,  2.30it/s]\n",
      "100%|█████████████████████████████████████████████| 8/8 [00:01<00:00,  5.16it/s]\n"
     ]
    },
    {
     "name": "stdout",
     "output_type": "stream",
     "text": [
      "** Epoch 40 ** - Epoch Time 87\n",
      "Train Loss = 0.7679\n",
      "Train Accuracy = 79.13357373737374 % \n",
      "\n",
      "Val Loss = 1.0467\n",
      "Val Accuracy = 73.34735 % \n",
      "\n"
     ]
    },
    {
     "name": "stderr",
     "output_type": "stream",
     "text": [
      "100%|█████████████████████████████████████████| 198/198 [01:26<00:00,  2.30it/s]\n",
      "100%|█████████████████████████████████████████████| 8/8 [00:01<00:00,  5.14it/s]\n"
     ]
    },
    {
     "name": "stdout",
     "output_type": "stream",
     "text": [
      "** Epoch 41 ** - Epoch Time 87\n",
      "Train Loss = 0.6041\n",
      "Train Accuracy = 82.7605691919192 % \n",
      "\n",
      "Val Loss = 1.0464\n",
      "Val Accuracy = 75.5859375 % \n",
      "\n"
     ]
    },
    {
     "name": "stderr",
     "output_type": "stream",
     "text": [
      "100%|█████████████████████████████████████████| 198/198 [01:25<00:00,  2.31it/s]\n",
      "100%|█████████████████████████████████████████████| 8/8 [00:01<00:00,  5.30it/s]\n"
     ]
    },
    {
     "name": "stdout",
     "output_type": "stream",
     "text": [
      "** Epoch 42 ** - Epoch Time 87\n",
      "Train Loss = 0.6239\n",
      "Train Accuracy = 82.40800151515151 % \n",
      "\n",
      "Val Loss = 0.9705\n",
      "Val Accuracy = 76.47235 % \n",
      "\n"
     ]
    },
    {
     "name": "stderr",
     "output_type": "stream",
     "text": [
      "100%|█████████████████████████████████████████| 198/198 [01:25<00:00,  2.31it/s]\n",
      "100%|█████████████████████████████████████████████| 8/8 [00:01<00:00,  5.29it/s]\n"
     ]
    },
    {
     "name": "stdout",
     "output_type": "stream",
     "text": [
      "** Epoch 43 ** - Epoch Time 87\n",
      "Train Loss = 0.6686\n",
      "Train Accuracy = 81.85407525252525 % \n",
      "\n",
      "Val Loss = 1.2155\n",
      "Val Accuracy = 72.3107 % \n",
      "\n"
     ]
    },
    {
     "name": "stderr",
     "output_type": "stream",
     "text": [
      "100%|█████████████████████████████████████████| 198/198 [01:26<00:00,  2.30it/s]\n",
      "100%|█████████████████████████████████████████████| 8/8 [00:01<00:00,  5.06it/s]\n"
     ]
    },
    {
     "name": "stdout",
     "output_type": "stream",
     "text": [
      "** Epoch 44 ** - Epoch Time 87\n",
      "Train Loss = 0.9189\n",
      "Train Accuracy = 76.2901186868687 % \n",
      "\n",
      "Val Loss = 1.4192\n",
      "Val Accuracy = 67.7283625 % \n",
      "\n"
     ]
    },
    {
     "name": "stderr",
     "output_type": "stream",
     "text": [
      "100%|█████████████████████████████████████████| 198/198 [01:25<00:00,  2.30it/s]\n",
      "100%|█████████████████████████████████████████████| 8/8 [00:01<00:00,  5.18it/s]\n"
     ]
    },
    {
     "name": "stdout",
     "output_type": "stream",
     "text": [
      "** Epoch 45 ** - Epoch Time 87\n",
      "Train Loss = 0.7656\n",
      "Train Accuracy = 79.39042626262626 % \n",
      "\n",
      "Val Loss = 1.8346\n",
      "Val Accuracy = 61.253 % \n",
      "\n"
     ]
    },
    {
     "name": "stderr",
     "output_type": "stream",
     "text": [
      "100%|█████████████████████████████████████████| 198/198 [01:25<00:00,  2.31it/s]\n",
      "100%|█████████████████████████████████████████████| 8/8 [00:01<00:00,  5.05it/s]\n"
     ]
    },
    {
     "name": "stdout",
     "output_type": "stream",
     "text": [
      "** Epoch 46 ** - Epoch Time 87\n",
      "Train Loss = 0.9411\n",
      "Train Accuracy = 75.47628484848485 % \n",
      "\n",
      "Val Loss = 1.1\n",
      "Val Accuracy = 74.6845 % \n",
      "\n"
     ]
    },
    {
     "name": "stderr",
     "output_type": "stream",
     "text": [
      "100%|█████████████████████████████████████████| 198/198 [01:33<00:00,  2.13it/s]\n",
      "100%|█████████████████████████████████████████████| 8/8 [00:01<00:00,  5.14it/s]\n"
     ]
    },
    {
     "name": "stdout",
     "output_type": "stream",
     "text": [
      "** Epoch 47 ** - Epoch Time 94\n",
      "Train Loss = 0.8347\n",
      "Train Accuracy = 77.94986161616161 % \n",
      "\n",
      "Val Loss = 1.0249\n",
      "Val Accuracy = 77.8846125 % \n",
      "\n"
     ]
    },
    {
     "name": "stderr",
     "output_type": "stream",
     "text": [
      "100%|█████████████████████████████████████████| 198/198 [01:25<00:00,  2.32it/s]\n",
      "100%|█████████████████████████████████████████████| 8/8 [00:01<00:00,  4.95it/s]\n"
     ]
    },
    {
     "name": "stdout",
     "output_type": "stream",
     "text": [
      "** Epoch 48 ** - Epoch Time 87\n",
      "Train Loss = 0.5378\n",
      "Train Accuracy = 85.37364595959595 % \n",
      "\n",
      "Val Loss = 1.0166\n",
      "Val Accuracy = 76.4272875 % \n",
      "\n"
     ]
    },
    {
     "name": "stderr",
     "output_type": "stream",
     "text": [
      "100%|█████████████████████████████████████████| 198/198 [01:25<00:00,  2.31it/s]\n",
      "100%|█████████████████████████████████████████████| 8/8 [00:01<00:00,  5.24it/s]\n"
     ]
    },
    {
     "name": "stdout",
     "output_type": "stream",
     "text": [
      "** Epoch 49 ** - Epoch Time 87\n",
      "Train Loss = 0.5289\n",
      "Train Accuracy = 85.17050555555555 % \n",
      "\n",
      "Val Loss = 1.0604\n",
      "Val Accuracy = 75.21033750000001 % \n",
      "\n"
     ]
    },
    {
     "name": "stderr",
     "output_type": "stream",
     "text": [
      "100%|█████████████████████████████████████████| 198/198 [01:25<00:00,  2.31it/s]\n",
      "100%|█████████████████████████████████████████████| 8/8 [00:01<00:00,  5.14it/s]\n"
     ]
    },
    {
     "name": "stdout",
     "output_type": "stream",
     "text": [
      "** Epoch 50 ** - Epoch Time 87\n",
      "Train Loss = 0.4863\n",
      "Train Accuracy = 86.88192424242423 % \n",
      "\n",
      "Val Loss = 0.9723\n",
      "Val Accuracy = 76.5024 % \n",
      "\n"
     ]
    },
    {
     "name": "stderr",
     "output_type": "stream",
     "text": [
      "100%|█████████████████████████████████████████| 198/198 [01:26<00:00,  2.28it/s]\n",
      "100%|█████████████████████████████████████████████| 8/8 [00:01<00:00,  5.03it/s]\n"
     ]
    },
    {
     "name": "stdout",
     "output_type": "stream",
     "text": [
      "** Epoch 51 ** - Epoch Time 88\n",
      "Train Loss = 0.4574\n",
      "Train Accuracy = 87.18128888888889 % \n",
      "\n",
      "Val Loss = 1.0553\n",
      "Val Accuracy = 77.5841375 % \n",
      "\n"
     ]
    },
    {
     "name": "stderr",
     "output_type": "stream",
     "text": [
      "100%|█████████████████████████████████████████| 198/198 [01:25<00:00,  2.31it/s]\n",
      "100%|█████████████████████████████████████████████| 8/8 [00:01<00:00,  5.26it/s]\n"
     ]
    },
    {
     "name": "stdout",
     "output_type": "stream",
     "text": [
      "** Epoch 52 ** - Epoch Time 87\n",
      "Train Loss = 0.4107\n",
      "Train Accuracy = 88.76109898989898 % \n",
      "\n",
      "Val Loss = 0.9849\n",
      "Val Accuracy = 77.9597375 % \n",
      "\n"
     ]
    },
    {
     "name": "stderr",
     "output_type": "stream",
     "text": [
      "100%|█████████████████████████████████████████| 198/198 [01:32<00:00,  2.15it/s]\n",
      "100%|█████████████████████████████████████████████| 8/8 [00:01<00:00,  4.97it/s]\n"
     ]
    },
    {
     "name": "stdout",
     "output_type": "stream",
     "text": [
      "** Epoch 53 ** - Epoch Time 93\n",
      "Train Loss = 0.3945\n",
      "Train Accuracy = 88.9258005050505 % \n",
      "\n",
      "Val Loss = 1.204\n",
      "Val Accuracy = 75.826325 % \n",
      "\n"
     ]
    },
    {
     "name": "stderr",
     "output_type": "stream",
     "text": [
      "100%|█████████████████████████████████████████| 198/198 [01:26<00:00,  2.28it/s]\n",
      "100%|█████████████████████████████████████████████| 8/8 [00:01<00:00,  5.47it/s]\n"
     ]
    },
    {
     "name": "stdout",
     "output_type": "stream",
     "text": [
      "** Epoch 54 ** - Epoch Time 88\n",
      "Train Loss = 0.5383\n",
      "Train Accuracy = 85.42939494949495 % \n",
      "\n",
      "Val Loss = 0.9951\n",
      "Val Accuracy = 77.644225 % \n",
      "\n"
     ]
    },
    {
     "name": "stderr",
     "output_type": "stream",
     "text": [
      "100%|█████████████████████████████████████████| 198/198 [01:25<00:00,  2.33it/s]\n",
      "100%|█████████████████████████████████████████████| 8/8 [00:01<00:00,  5.35it/s]\n"
     ]
    },
    {
     "name": "stdout",
     "output_type": "stream",
     "text": [
      "** Epoch 55 ** - Epoch Time 86\n",
      "Train Loss = 0.4954\n",
      "Train Accuracy = 86.33843484848485 % \n",
      "\n",
      "Val Loss = 1.041\n",
      "Val Accuracy = 75.78125 % \n",
      "\n"
     ]
    },
    {
     "name": "stderr",
     "output_type": "stream",
     "text": [
      "100%|█████████████████████████████████████████| 198/198 [01:24<00:00,  2.33it/s]\n",
      "100%|█████████████████████████████████████████████| 8/8 [00:01<00:00,  5.07it/s]\n"
     ]
    },
    {
     "name": "stdout",
     "output_type": "stream",
     "text": [
      "** Epoch 56 ** - Epoch Time 86\n",
      "Train Loss = 0.8368\n",
      "Train Accuracy = 78.53382626262626 % \n",
      "\n",
      "Val Loss = 0.9936\n",
      "Val Accuracy = 77.0883375 % \n",
      "\n"
     ]
    },
    {
     "name": "stderr",
     "output_type": "stream",
     "text": [
      "100%|█████████████████████████████████████████| 198/198 [01:26<00:00,  2.28it/s]\n",
      "100%|█████████████████████████████████████████████| 8/8 [00:01<00:00,  4.78it/s]\n"
     ]
    },
    {
     "name": "stdout",
     "output_type": "stream",
     "text": [
      "** Epoch 57 ** - Epoch Time 88\n",
      "Train Loss = 0.4212\n",
      "Train Accuracy = 87.4732712121212 % \n",
      "\n",
      "Val Loss = 0.9875\n",
      "Val Accuracy = 79.5823375 % \n",
      "\n"
     ]
    },
    {
     "name": "stderr",
     "output_type": "stream",
     "text": [
      "100%|█████████████████████████████████████████| 198/198 [01:27<00:00,  2.27it/s]\n",
      "100%|█████████████████████████████████████████████| 8/8 [00:01<00:00,  5.26it/s]\n"
     ]
    },
    {
     "name": "stdout",
     "output_type": "stream",
     "text": [
      "** Epoch 58 ** - Epoch Time 88\n",
      "Train Loss = 0.3078\n",
      "Train Accuracy = 90.58452474747475 % \n",
      "\n",
      "Val Loss = 0.9451\n",
      "Val Accuracy = 79.1766875 % \n",
      "\n"
     ]
    },
    {
     "name": "stderr",
     "output_type": "stream",
     "text": [
      "100%|█████████████████████████████████████████| 198/198 [01:28<00:00,  2.24it/s]\n",
      "100%|█████████████████████████████████████████████| 8/8 [00:01<00:00,  5.31it/s]\n"
     ]
    },
    {
     "name": "stdout",
     "output_type": "stream",
     "text": [
      "** Epoch 59 ** - Epoch Time 89\n",
      "Train Loss = 0.2788\n",
      "Train Accuracy = 91.57782474747475 % \n",
      "\n",
      "Val Loss = 0.8909\n",
      "Val Accuracy = 79.86778749999999 % \n",
      "\n"
     ]
    },
    {
     "name": "stderr",
     "output_type": "stream",
     "text": [
      "100%|█████████████████████████████████████████| 198/198 [01:27<00:00,  2.27it/s]\n",
      "100%|█████████████████████████████████████████████| 8/8 [00:01<00:00,  5.31it/s]\n"
     ]
    },
    {
     "name": "stdout",
     "output_type": "stream",
     "text": [
      "** Epoch 60 ** - Epoch Time 88\n",
      "Train Loss = 0.2463\n",
      "Train Accuracy = 92.61312727272727 % \n",
      "\n",
      "Val Loss = 0.9006\n",
      "Val Accuracy = 81.580525 % \n",
      "\n"
     ]
    },
    {
     "name": "stderr",
     "output_type": "stream",
     "text": [
      "100%|█████████████████████████████████████████| 198/198 [01:26<00:00,  2.28it/s]\n",
      "100%|█████████████████████████████████████████████| 8/8 [00:01<00:00,  5.17it/s]\n"
     ]
    },
    {
     "name": "stdout",
     "output_type": "stream",
     "text": [
      "** Epoch 61 ** - Epoch Time 88\n",
      "Train Loss = 0.2435\n",
      "Train Accuracy = 92.85623383838383 % \n",
      "\n",
      "Val Loss = 1.0226\n",
      "Val Accuracy = 82.0613 % \n",
      "\n"
     ]
    },
    {
     "name": "stderr",
     "output_type": "stream",
     "text": [
      "100%|█████████████████████████████████████████| 198/198 [01:26<00:00,  2.30it/s]\n",
      "100%|█████████████████████████████████████████████| 8/8 [00:01<00:00,  5.12it/s]\n"
     ]
    },
    {
     "name": "stdout",
     "output_type": "stream",
     "text": [
      "** Epoch 62 ** - Epoch Time 87\n",
      "Train Loss = 0.2524\n",
      "Train Accuracy = 92.49373787878788 % \n",
      "\n",
      "Val Loss = 0.7699\n",
      "Val Accuracy = 84.6604625 % \n",
      "\n"
     ]
    },
    {
     "name": "stderr",
     "output_type": "stream",
     "text": [
      "100%|█████████████████████████████████████████| 198/198 [01:32<00:00,  2.14it/s]\n",
      "100%|█████████████████████████████████████████████| 8/8 [00:01<00:00,  5.16it/s]\n"
     ]
    },
    {
     "name": "stdout",
     "output_type": "stream",
     "text": [
      "** Epoch 63 ** - Epoch Time 93\n",
      "Train Loss = 0.2441\n",
      "Train Accuracy = 92.85674292929292 % \n",
      "\n",
      "Val Loss = 0.9997\n",
      "Val Accuracy = 79.387025 % \n",
      "\n"
     ]
    },
    {
     "name": "stderr",
     "output_type": "stream",
     "text": [
      "100%|█████████████████████████████████████████| 198/198 [01:25<00:00,  2.30it/s]\n",
      "100%|█████████████████████████████████████████████| 8/8 [00:01<00:00,  5.09it/s]\n"
     ]
    },
    {
     "name": "stdout",
     "output_type": "stream",
     "text": [
      "** Epoch 64 ** - Epoch Time 87\n",
      "Train Loss = 0.2355\n",
      "Train Accuracy = 92.95882222222222 % \n",
      "\n",
      "Val Loss = 0.8914\n",
      "Val Accuracy = 81.6857 % \n",
      "\n"
     ]
    },
    {
     "name": "stderr",
     "output_type": "stream",
     "text": [
      "100%|█████████████████████████████████████████| 198/198 [01:27<00:00,  2.26it/s]\n",
      "100%|█████████████████████████████████████████████| 8/8 [00:01<00:00,  5.17it/s]\n"
     ]
    },
    {
     "name": "stdout",
     "output_type": "stream",
     "text": [
      "** Epoch 65 ** - Epoch Time 88\n",
      "Train Loss = 0.2318\n",
      "Train Accuracy = 93.1166505050505 % \n",
      "\n",
      "Val Loss = 0.9314\n",
      "Val Accuracy = 80.513825 % \n",
      "\n"
     ]
    },
    {
     "name": "stderr",
     "output_type": "stream",
     "text": [
      "100%|█████████████████████████████████████████| 198/198 [01:26<00:00,  2.30it/s]\n",
      "100%|█████████████████████████████████████████████| 8/8 [00:01<00:00,  5.15it/s]\n"
     ]
    },
    {
     "name": "stdout",
     "output_type": "stream",
     "text": [
      "** Epoch 66 ** - Epoch Time 87\n",
      "Train Loss = 0.2062\n",
      "Train Accuracy = 93.74949090909091 % \n",
      "\n",
      "Val Loss = 0.9093\n",
      "Val Accuracy = 81.1899 % \n",
      "\n"
     ]
    },
    {
     "name": "stderr",
     "output_type": "stream",
     "text": [
      "100%|█████████████████████████████████████████| 198/198 [01:25<00:00,  2.33it/s]\n",
      "100%|█████████████████████████████████████████████| 8/8 [00:01<00:00,  5.33it/s]\n"
     ]
    },
    {
     "name": "stdout",
     "output_type": "stream",
     "text": [
      "** Epoch 67 ** - Epoch Time 86\n",
      "Train Loss = 0.2038\n",
      "Train Accuracy = 93.97834191919192 % \n",
      "\n",
      "Val Loss = 1.06\n",
      "Val Accuracy = 80.2283625 % \n",
      "\n"
     ]
    },
    {
     "name": "stderr",
     "output_type": "stream",
     "text": [
      "100%|█████████████████████████████████████████| 198/198 [01:26<00:00,  2.30it/s]\n",
      "100%|█████████████████████████████████████████████| 8/8 [00:01<00:00,  5.13it/s]\n"
     ]
    },
    {
     "name": "stdout",
     "output_type": "stream",
     "text": [
      "** Epoch 68 ** - Epoch Time 87\n",
      "Train Loss = 0.2316\n",
      "Train Accuracy = 93.41754242424243 % \n",
      "\n",
      "Val Loss = 0.9569\n",
      "Val Accuracy = 83.18809999999999 % \n",
      "\n"
     ]
    },
    {
     "name": "stderr",
     "output_type": "stream",
     "text": [
      "100%|█████████████████████████████████████████| 198/198 [01:26<00:00,  2.29it/s]\n",
      "100%|█████████████████████████████████████████████| 8/8 [00:01<00:00,  5.29it/s]\n"
     ]
    },
    {
     "name": "stdout",
     "output_type": "stream",
     "text": [
      "** Epoch 69 ** - Epoch Time 87\n",
      "Train Loss = 0.2291\n",
      "Train Accuracy = 93.47278232323232 % \n",
      "\n",
      "Val Loss = 0.952\n",
      "Val Accuracy = 79.387025 % \n",
      "\n"
     ]
    },
    {
     "name": "stderr",
     "output_type": "stream",
     "text": [
      "100%|█████████████████████████████████████████| 198/198 [01:26<00:00,  2.30it/s]\n",
      "100%|█████████████████████████████████████████████| 8/8 [00:01<00:00,  4.93it/s]\n"
     ]
    },
    {
     "name": "stdout",
     "output_type": "stream",
     "text": [
      "** Epoch 70 ** - Epoch Time 87\n",
      "Train Loss = 0.2261\n",
      "Train Accuracy = 93.44070757575757 % \n",
      "\n",
      "Val Loss = 0.9784\n",
      "Val Accuracy = 81.9260875 % \n",
      "\n"
     ]
    },
    {
     "name": "stderr",
     "output_type": "stream",
     "text": [
      "100%|█████████████████████████████████████████| 198/198 [01:25<00:00,  2.31it/s]\n",
      "100%|█████████████████████████████████████████████| 8/8 [00:01<00:00,  5.27it/s]\n"
     ]
    },
    {
     "name": "stdout",
     "output_type": "stream",
     "text": [
      "** Epoch 71 ** - Epoch Time 87\n",
      "Train Loss = 0.2144\n",
      "Train Accuracy = 93.5038388888889 % \n",
      "\n",
      "Val Loss = 0.8192\n",
      "Val Accuracy = 80.64903749999999 % \n",
      "\n"
     ]
    },
    {
     "name": "stderr",
     "output_type": "stream",
     "text": [
      "100%|█████████████████████████████████████████| 198/198 [01:25<00:00,  2.31it/s]\n",
      "100%|█████████████████████████████████████████████| 8/8 [00:01<00:00,  5.12it/s]\n"
     ]
    },
    {
     "name": "stdout",
     "output_type": "stream",
     "text": [
      "** Epoch 72 ** - Epoch Time 87\n",
      "Train Loss = 0.1822\n",
      "Train Accuracy = 94.39607777777778 % \n",
      "\n",
      "Val Loss = 0.9948\n",
      "Val Accuracy = 81.6857 % \n",
      "\n"
     ]
    },
    {
     "name": "stderr",
     "output_type": "stream",
     "text": [
      "100%|█████████████████████████████████████████| 198/198 [01:25<00:00,  2.32it/s]\n",
      "100%|█████████████████████████████████████████████| 8/8 [00:01<00:00,  5.32it/s]\n"
     ]
    },
    {
     "name": "stdout",
     "output_type": "stream",
     "text": [
      "** Epoch 73 ** - Epoch Time 86\n",
      "Train Loss = 0.2033\n",
      "Train Accuracy = 94.10409545454546 % \n",
      "\n",
      "Val Loss = 1.1808\n",
      "Val Accuracy = 79.236775 % \n",
      "\n"
     ]
    },
    {
     "name": "stderr",
     "output_type": "stream",
     "text": [
      "100%|█████████████████████████████████████████| 198/198 [01:26<00:00,  2.28it/s]\n",
      "100%|█████████████████████████████████████████████| 8/8 [00:01<00:00,  5.14it/s]\n"
     ]
    },
    {
     "name": "stdout",
     "output_type": "stream",
     "text": [
      "** Epoch 74 ** - Epoch Time 88\n",
      "Train Loss = 0.1843\n",
      "Train Accuracy = 94.49077474747475 % \n",
      "\n",
      "Val Loss = 0.9256\n",
      "Val Accuracy = 82.5721125 % \n",
      "\n"
     ]
    },
    {
     "name": "stderr",
     "output_type": "stream",
     "text": [
      "100%|█████████████████████████████████████████| 198/198 [01:26<00:00,  2.28it/s]\n",
      "100%|█████████████████████████████████████████████| 8/8 [00:01<00:00,  5.15it/s]\n"
     ]
    },
    {
     "name": "stdout",
     "output_type": "stream",
     "text": [
      "** Epoch 75 ** - Epoch Time 88\n",
      "Train Loss = 0.201\n",
      "Train Accuracy = 93.97783282828283 % \n",
      "\n",
      "Val Loss = 0.9237\n",
      "Val Accuracy = 82.21153749999999 % \n",
      "\n"
     ]
    },
    {
     "name": "stderr",
     "output_type": "stream",
     "text": [
      "100%|█████████████████████████████████████████| 198/198 [01:26<00:00,  2.29it/s]\n",
      "100%|█████████████████████████████████████████████| 8/8 [00:01<00:00,  5.12it/s]\n"
     ]
    },
    {
     "name": "stdout",
     "output_type": "stream",
     "text": [
      "** Epoch 76 ** - Epoch Time 88\n",
      "Train Loss = 0.1914\n",
      "Train Accuracy = 94.14406161616162 % \n",
      "\n",
      "Val Loss = 0.9829\n",
      "Val Accuracy = 84.2247625 % \n",
      "\n"
     ]
    },
    {
     "name": "stderr",
     "output_type": "stream",
     "text": [
      "100%|█████████████████████████████████████████| 198/198 [01:25<00:00,  2.32it/s]\n",
      "100%|█████████████████████████████████████████████| 8/8 [00:01<00:00,  5.30it/s]\n"
     ]
    },
    {
     "name": "stdout",
     "output_type": "stream",
     "text": [
      "** Epoch 77 ** - Epoch Time 86\n",
      "Train Loss = 0.1883\n",
      "Train Accuracy = 94.56968888888889 % \n",
      "\n",
      "Val Loss = 0.8841\n",
      "Val Accuracy = 82.78245 % \n",
      "\n"
     ]
    },
    {
     "name": "stderr",
     "output_type": "stream",
     "text": [
      "100%|█████████████████████████████████████████| 198/198 [01:25<00:00,  2.32it/s]\n",
      "100%|█████████████████████████████████████████████| 8/8 [00:01<00:00,  5.32it/s]\n"
     ]
    },
    {
     "name": "stdout",
     "output_type": "stream",
     "text": [
      "** Epoch 78 ** - Epoch Time 86\n",
      "Train Loss = 0.3949\n",
      "Train Accuracy = 89.57289646464646 % \n",
      "\n",
      "Val Loss = 0.8518\n",
      "Val Accuracy = 83.173075 % \n",
      "\n"
     ]
    },
    {
     "name": "stderr",
     "output_type": "stream",
     "text": [
      "100%|█████████████████████████████████████████| 198/198 [01:24<00:00,  2.33it/s]\n",
      "100%|█████████████████████████████████████████████| 8/8 [00:01<00:00,  5.29it/s]\n"
     ]
    },
    {
     "name": "stdout",
     "output_type": "stream",
     "text": [
      "** Epoch 79 ** - Epoch Time 86\n",
      "Train Loss = 0.2099\n",
      "Train Accuracy = 93.70952474747475 % \n",
      "\n",
      "Val Loss = 0.9483\n",
      "Val Accuracy = 82.3768 % \n",
      "\n"
     ]
    },
    {
     "name": "stderr",
     "output_type": "stream",
     "text": [
      "100%|█████████████████████████████████████████| 198/198 [01:25<00:00,  2.32it/s]\n",
      "100%|█████████████████████████████████████████████| 8/8 [00:01<00:00,  5.30it/s]\n"
     ]
    },
    {
     "name": "stdout",
     "output_type": "stream",
     "text": [
      "** Epoch 80 ** - Epoch Time 86\n",
      "Train Loss = 0.1705\n",
      "Train Accuracy = 95.20202020202021 % \n",
      "\n",
      "Val Loss = 1.0829\n",
      "Val Accuracy = 81.1899 % \n",
      "\n"
     ]
    },
    {
     "name": "stderr",
     "output_type": "stream",
     "text": [
      "100%|█████████████████████████████████████████| 198/198 [01:24<00:00,  2.34it/s]\n",
      "100%|█████████████████████████████████████████████| 8/8 [00:01<00:00,  5.24it/s]\n"
     ]
    },
    {
     "name": "stdout",
     "output_type": "stream",
     "text": [
      "** Epoch 81 ** - Epoch Time 86\n",
      "Train Loss = 0.1526\n",
      "Train Accuracy = 95.43774444444445 % \n",
      "\n",
      "Val Loss = 0.8806\n",
      "Val Accuracy = 83.3233125 % \n",
      "\n"
     ]
    },
    {
     "name": "stderr",
     "output_type": "stream",
     "text": [
      "100%|█████████████████████████████████████████| 198/198 [01:24<00:00,  2.34it/s]\n",
      "100%|█████████████████████████████████████████████| 8/8 [00:01<00:00,  5.33it/s]\n"
     ]
    },
    {
     "name": "stdout",
     "output_type": "stream",
     "text": [
      "** Epoch 82 ** - Epoch Time 86\n",
      "Train Loss = 0.1603\n",
      "Train Accuracy = 95.45403636363636 % \n",
      "\n",
      "Val Loss = 0.9673\n",
      "Val Accuracy = 81.3852125 % \n",
      "\n"
     ]
    },
    {
     "name": "stderr",
     "output_type": "stream",
     "text": [
      "100%|█████████████████████████████████████████| 198/198 [01:25<00:00,  2.33it/s]\n",
      "100%|█████████████████████████████████████████████| 8/8 [00:01<00:00,  5.30it/s]\n"
     ]
    },
    {
     "name": "stdout",
     "output_type": "stream",
     "text": [
      "** Epoch 83 ** - Epoch Time 86\n",
      "Train Loss = 0.1476\n",
      "Train Accuracy = 95.65030353535353 % \n",
      "\n",
      "Val Loss = 0.9373\n",
      "Val Accuracy = 80.889425 % \n",
      "\n"
     ]
    },
    {
     "name": "stderr",
     "output_type": "stream",
     "text": [
      "100%|█████████████████████████████████████████| 198/198 [01:25<00:00,  2.32it/s]\n",
      "100%|█████████████████████████████████████████████| 8/8 [00:01<00:00,  5.06it/s]\n"
     ]
    },
    {
     "name": "stdout",
     "output_type": "stream",
     "text": [
      "** Epoch 84 ** - Epoch Time 86\n",
      "Train Loss = 0.159\n",
      "Train Accuracy = 95.35832121212121 % \n",
      "\n",
      "Val Loss = 1.2637\n",
      "Val Accuracy = 79.266825 % \n",
      "\n"
     ]
    },
    {
     "name": "stderr",
     "output_type": "stream",
     "text": [
      "100%|█████████████████████████████████████████| 198/198 [01:25<00:00,  2.31it/s]\n",
      "100%|█████████████████████████████████████████████| 8/8 [00:01<00:00,  5.23it/s]\n"
     ]
    },
    {
     "name": "stdout",
     "output_type": "stream",
     "text": [
      "** Epoch 85 ** - Epoch Time 87\n",
      "Train Loss = 0.1597\n",
      "Train Accuracy = 95.29620808080809 % \n",
      "\n",
      "Val Loss = 0.9357\n",
      "Val Accuracy = 82.60216249999999 % \n",
      "\n"
     ]
    },
    {
     "name": "stderr",
     "output_type": "stream",
     "text": [
      "100%|█████████████████████████████████████████| 198/198 [01:25<00:00,  2.31it/s]\n",
      "100%|█████████████████████████████████████████████| 8/8 [00:01<00:00,  5.19it/s]\n"
     ]
    },
    {
     "name": "stdout",
     "output_type": "stream",
     "text": [
      "** Epoch 86 ** - Epoch Time 87\n",
      "Train Loss = 0.167\n",
      "Train Accuracy = 95.22416717171717 % \n",
      "\n",
      "Val Loss = 0.9373\n",
      "Val Accuracy = 83.57872499999999 % \n",
      "\n"
     ]
    },
    {
     "name": "stderr",
     "output_type": "stream",
     "text": [
      "100%|█████████████████████████████████████████| 198/198 [01:25<00:00,  2.33it/s]\n",
      "100%|█████████████████████████████████████████████| 8/8 [00:01<00:00,  5.29it/s]\n"
     ]
    },
    {
     "name": "stdout",
     "output_type": "stream",
     "text": [
      "** Epoch 87 ** - Epoch Time 86\n",
      "Train Loss = 0.1521\n",
      "Train Accuracy = 95.58768131313131 % \n",
      "\n",
      "Val Loss = 0.9515\n",
      "Val Accuracy = 83.3683875 % \n",
      "\n"
     ]
    },
    {
     "name": "stderr",
     "output_type": "stream",
     "text": [
      "100%|█████████████████████████████████████████| 198/198 [01:25<00:00,  2.31it/s]\n",
      "100%|█████████████████████████████████████████████| 8/8 [00:01<00:00,  5.24it/s]\n"
     ]
    },
    {
     "name": "stdout",
     "output_type": "stream",
     "text": [
      "** Epoch 88 ** - Epoch Time 87\n",
      "Train Loss = 0.1445\n",
      "Train Accuracy = 95.7281994949495 % \n",
      "\n",
      "Val Loss = 1.1139\n",
      "Val Accuracy = 80.87440000000001 % \n",
      "\n"
     ]
    },
    {
     "name": "stderr",
     "output_type": "stream",
     "text": [
      "100%|█████████████████████████████████████████| 198/198 [01:25<00:00,  2.33it/s]\n",
      "100%|█████████████████████████████████████████████| 8/8 [00:01<00:00,  5.36it/s]\n"
     ]
    },
    {
     "name": "stdout",
     "output_type": "stream",
     "text": [
      "** Epoch 89 ** - Epoch Time 86\n",
      "Train Loss = 0.1703\n",
      "Train Accuracy = 95.38352272727273 % \n",
      "\n",
      "Val Loss = 0.7588\n",
      "Val Accuracy = 84.074525 % \n",
      "\n"
     ]
    },
    {
     "name": "stderr",
     "output_type": "stream",
     "text": [
      "100%|█████████████████████████████████████████| 198/198 [01:24<00:00,  2.33it/s]\n",
      "100%|█████████████████████████████████████████████| 8/8 [00:01<00:00,  5.16it/s]\n"
     ]
    },
    {
     "name": "stdout",
     "output_type": "stream",
     "text": [
      "** Epoch 90 ** - Epoch Time 86\n",
      "Train Loss = 0.1473\n",
      "Train Accuracy = 95.45403636363636 % \n",
      "\n",
      "Val Loss = 1.0135\n",
      "Val Accuracy = 82.3016875 % \n",
      "\n"
     ]
    },
    {
     "name": "stderr",
     "output_type": "stream",
     "text": [
      "100%|█████████████████████████████████████████| 198/198 [01:25<00:00,  2.33it/s]\n",
      "100%|█████████████████████████████████████████████| 8/8 [00:01<00:00,  5.21it/s]\n"
     ]
    },
    {
     "name": "stdout",
     "output_type": "stream",
     "text": [
      "** Epoch 91 ** - Epoch Time 86\n",
      "Train Loss = 0.1598\n",
      "Train Accuracy = 95.45352727272727 % \n",
      "\n",
      "Val Loss = 1.0705\n",
      "Val Accuracy = 82.6472375 % \n",
      "\n"
     ]
    },
    {
     "name": "stderr",
     "output_type": "stream",
     "text": [
      "100%|█████████████████████████████████████████| 198/198 [01:25<00:00,  2.33it/s]\n",
      "100%|█████████████████████████████████████████████| 8/8 [00:01<00:00,  5.12it/s]\n"
     ]
    },
    {
     "name": "stdout",
     "output_type": "stream",
     "text": [
      "** Epoch 92 ** - Epoch Time 86\n",
      "Train Loss = 0.1302\n",
      "Train Accuracy = 96.07007575757575 % \n",
      "\n",
      "Val Loss = 1.0266\n",
      "Val Accuracy = 83.7590125 % \n",
      "\n"
     ]
    },
    {
     "name": "stderr",
     "output_type": "stream",
     "text": [
      "100%|█████████████████████████████████████████| 198/198 [01:25<00:00,  2.32it/s]\n",
      "100%|█████████████████████████████████████████████| 8/8 [00:01<00:00,  5.25it/s]\n"
     ]
    },
    {
     "name": "stdout",
     "output_type": "stream",
     "text": [
      "** Epoch 93 ** - Epoch Time 86\n",
      "Train Loss = 0.1499\n",
      "Train Accuracy = 95.6897606060606 % \n",
      "\n",
      "Val Loss = 0.9917\n",
      "Val Accuracy = 84.014425 % \n",
      "\n"
     ]
    },
    {
     "name": "stderr",
     "output_type": "stream",
     "text": [
      "100%|█████████████████████████████████████████| 198/198 [01:25<00:00,  2.32it/s]\n",
      "100%|█████████████████████████████████████████████| 8/8 [00:01<00:00,  5.12it/s]\n"
     ]
    },
    {
     "name": "stdout",
     "output_type": "stream",
     "text": [
      "** Epoch 94 ** - Epoch Time 86\n",
      "Train Loss = 0.1429\n",
      "Train Accuracy = 95.83231515151515 % \n",
      "\n",
      "Val Loss = 0.9878\n",
      "Val Accuracy = 83.27825 % \n",
      "\n"
     ]
    },
    {
     "name": "stderr",
     "output_type": "stream",
     "text": [
      "100%|█████████████████████████████████████████| 198/198 [01:25<00:00,  2.32it/s]\n",
      "100%|█████████████████████████████████████████████| 8/8 [00:01<00:00,  5.28it/s]\n"
     ]
    },
    {
     "name": "stdout",
     "output_type": "stream",
     "text": [
      "** Epoch 95 ** - Epoch Time 86\n",
      "Train Loss = 0.1482\n",
      "Train Accuracy = 95.71445303030303 % \n",
      "\n",
      "Val Loss = 1.0006\n",
      "Val Accuracy = 82.106375 % \n",
      "\n"
     ]
    },
    {
     "name": "stderr",
     "output_type": "stream",
     "text": [
      "100%|█████████████████████████████████████████| 198/198 [01:25<00:00,  2.32it/s]\n",
      "100%|█████████████████████████████████████████████| 8/8 [00:01<00:00,  5.15it/s]\n"
     ]
    },
    {
     "name": "stdout",
     "output_type": "stream",
     "text": [
      "** Epoch 96 ** - Epoch Time 87\n",
      "Train Loss = 0.1306\n",
      "Train Accuracy = 96.07745808080809 % \n",
      "\n",
      "Val Loss = 1.0396\n",
      "Val Accuracy = 81.43028749999999 % \n",
      "\n"
     ]
    },
    {
     "name": "stderr",
     "output_type": "stream",
     "text": [
      "100%|█████████████████████████████████████████| 198/198 [01:25<00:00,  2.32it/s]\n",
      "100%|█████████████████████████████████████████████| 8/8 [00:01<00:00,  4.96it/s]\n"
     ]
    },
    {
     "name": "stdout",
     "output_type": "stream",
     "text": [
      "** Epoch 97 ** - Epoch Time 86\n",
      "Train Loss = 0.1358\n",
      "Train Accuracy = 96.08585858585859 % \n",
      "\n",
      "Val Loss = 0.9492\n",
      "Val Accuracy = 81.730775 % \n",
      "\n"
     ]
    },
    {
     "name": "stderr",
     "output_type": "stream",
     "text": [
      "100%|█████████████████████████████████████████| 198/198 [01:25<00:00,  2.33it/s]\n",
      "100%|█████████████████████████████████████████████| 8/8 [00:01<00:00,  5.19it/s]\n"
     ]
    },
    {
     "name": "stdout",
     "output_type": "stream",
     "text": [
      "** Epoch 98 ** - Epoch Time 86\n",
      "Train Loss = 0.1245\n",
      "Train Accuracy = 96.07745808080809 % \n",
      "\n",
      "Val Loss = 1.1497\n",
      "Val Accuracy = 82.1814875 % \n",
      "\n"
     ]
    },
    {
     "name": "stderr",
     "output_type": "stream",
     "text": [
      "100%|█████████████████████████████████████████| 198/198 [01:25<00:00,  2.33it/s]\n",
      "100%|█████████████████████████████████████████████| 8/8 [00:01<00:00,  5.00it/s]\n"
     ]
    },
    {
     "name": "stdout",
     "output_type": "stream",
     "text": [
      "** Epoch 99 ** - Epoch Time 86\n",
      "Train Loss = 0.1527\n",
      "Train Accuracy = 95.69917929292929 % \n",
      "\n",
      "Val Loss = 1.0931\n",
      "Val Accuracy = 80.5739125 % \n",
      "\n"
     ]
    },
    {
     "name": "stderr",
     "output_type": "stream",
     "text": [
      " 10%|████▍                                       | 1/10 [00:00<00:02,  3.58it/s]\n"
     ]
    },
    {
     "ename": "OutOfMemoryError",
     "evalue": "CUDA out of memory. Tried to allocate 308.00 MiB (GPU 0; 23.68 GiB total capacity; 18.36 GiB already allocated; 307.81 MiB free; 19.79 GiB reserved in total by PyTorch) If reserved memory is >> allocated memory try setting max_split_size_mb to avoid fragmentation.  See documentation for Memory Management and PYTORCH_CUDA_ALLOC_CONF",
     "output_type": "error",
     "traceback": [
      "\u001b[0;31m---------------------------------------------------------------------------\u001b[0m",
      "\u001b[0;31mOutOfMemoryError\u001b[0m                          Traceback (most recent call last)",
      "Cell \u001b[0;32mIn[11], line 7\u001b[0m\n\u001b[1;32m      5\u001b[0m details \u001b[38;5;241m=\u001b[39m create_model_details(VGG19_BDA, \u001b[38;5;241m100\u001b[39m, lr\u001b[38;5;241m=\u001b[39m\u001b[38;5;241m1e-3\u001b[39m)\n\u001b[1;32m      6\u001b[0m result \u001b[38;5;241m=\u001b[39m train_model(details, \u001b[38;5;124m\"\u001b[39m\u001b[38;5;124mVGG19_BDA\u001b[39m\u001b[38;5;124m\"\u001b[39m)\n\u001b[0;32m----> 7\u001b[0m \u001b[43mshow_result\u001b[49m\u001b[43m(\u001b[49m\u001b[43mresult\u001b[49m\u001b[43m,\u001b[49m\u001b[43m \u001b[49m\u001b[38;5;124;43m\"\u001b[39;49m\u001b[38;5;124;43mVGG19_BDA\u001b[39;49m\u001b[38;5;124;43m\"\u001b[39;49m\u001b[43m)\u001b[49m\n",
      "Cell \u001b[0;32mIn[10], line 32\u001b[0m, in \u001b[0;36mshow_result\u001b[0;34m(result, model_name)\u001b[0m\n\u001b[1;32m     29\u001b[0m val_loss \u001b[38;5;241m=\u001b[39m result[\u001b[38;5;124m'\u001b[39m\u001b[38;5;124mval_loss\u001b[39m\u001b[38;5;124m'\u001b[39m]\n\u001b[1;32m     30\u001b[0m val_acc \u001b[38;5;241m=\u001b[39m result[\u001b[38;5;124m'\u001b[39m\u001b[38;5;124mval_acc\u001b[39m\u001b[38;5;124m'\u001b[39m]\n\u001b[0;32m---> 32\u001b[0m test_acc \u001b[38;5;241m=\u001b[39m \u001b[43mtest_model\u001b[49m\u001b[43m(\u001b[49m\u001b[43mmodel\u001b[49m\u001b[43m,\u001b[49m\u001b[43m \u001b[49m\u001b[43mdevice\u001b[49m\u001b[43m,\u001b[49m\u001b[43m \u001b[49m\u001b[43mmodel_name\u001b[49m\u001b[43m,\u001b[49m\u001b[43m \u001b[49m\u001b[43mepochs\u001b[49m\u001b[43m)\u001b[49m\n\u001b[1;32m     34\u001b[0m plt\u001b[38;5;241m.\u001b[39msubplot(\u001b[38;5;241m1\u001b[39m,\u001b[38;5;241m2\u001b[39m,\u001b[38;5;241m1\u001b[39m)\n\u001b[1;32m     35\u001b[0m plt\u001b[38;5;241m.\u001b[39mplot(train_loss, \u001b[38;5;124m'\u001b[39m\u001b[38;5;124mg\u001b[39m\u001b[38;5;124m'\u001b[39m, label\u001b[38;5;241m=\u001b[39m\u001b[38;5;124m'\u001b[39m\u001b[38;5;124mtrain\u001b[39m\u001b[38;5;124m'\u001b[39m)\n",
      "Cell \u001b[0;32mIn[10], line 13\u001b[0m, in \u001b[0;36mtest_model\u001b[0;34m(model, device, model_name, epochs)\u001b[0m\n\u001b[1;32m     10\u001b[0m     labels \u001b[38;5;241m=\u001b[39m labels\u001b[38;5;241m.\u001b[39mto(device)\n\u001b[1;32m     12\u001b[0m     counter \u001b[38;5;241m+\u001b[39m\u001b[38;5;241m=\u001b[39m \u001b[38;5;241m1\u001b[39m\n\u001b[0;32m---> 13\u001b[0m     y_hat \u001b[38;5;241m=\u001b[39m \u001b[43mmodel\u001b[49m\u001b[43m(\u001b[49m\u001b[43mimages\u001b[49m\u001b[43m)\u001b[49m\n\u001b[1;32m     14\u001b[0m     acc \u001b[38;5;241m+\u001b[39m\u001b[38;5;241m=\u001b[39m calc_accuracy(labels\u001b[38;5;241m.\u001b[39mcpu(), y_hat\u001b[38;5;241m.\u001b[39mcpu())\n\u001b[1;32m     16\u001b[0m acc \u001b[38;5;241m/\u001b[39m\u001b[38;5;241m=\u001b[39m counter\n",
      "File \u001b[0;32m~/anaconda3/envs/ML/lib/python3.9/site-packages/torch/nn/modules/module.py:1194\u001b[0m, in \u001b[0;36mModule._call_impl\u001b[0;34m(self, *input, **kwargs)\u001b[0m\n\u001b[1;32m   1190\u001b[0m \u001b[38;5;66;03m# If we don't have any hooks, we want to skip the rest of the logic in\u001b[39;00m\n\u001b[1;32m   1191\u001b[0m \u001b[38;5;66;03m# this function, and just call forward.\u001b[39;00m\n\u001b[1;32m   1192\u001b[0m \u001b[38;5;28;01mif\u001b[39;00m \u001b[38;5;129;01mnot\u001b[39;00m (\u001b[38;5;28mself\u001b[39m\u001b[38;5;241m.\u001b[39m_backward_hooks \u001b[38;5;129;01mor\u001b[39;00m \u001b[38;5;28mself\u001b[39m\u001b[38;5;241m.\u001b[39m_forward_hooks \u001b[38;5;129;01mor\u001b[39;00m \u001b[38;5;28mself\u001b[39m\u001b[38;5;241m.\u001b[39m_forward_pre_hooks \u001b[38;5;129;01mor\u001b[39;00m _global_backward_hooks\n\u001b[1;32m   1193\u001b[0m         \u001b[38;5;129;01mor\u001b[39;00m _global_forward_hooks \u001b[38;5;129;01mor\u001b[39;00m _global_forward_pre_hooks):\n\u001b[0;32m-> 1194\u001b[0m     \u001b[38;5;28;01mreturn\u001b[39;00m \u001b[43mforward_call\u001b[49m\u001b[43m(\u001b[49m\u001b[38;5;241;43m*\u001b[39;49m\u001b[38;5;28;43minput\u001b[39;49m\u001b[43m,\u001b[49m\u001b[43m \u001b[49m\u001b[38;5;241;43m*\u001b[39;49m\u001b[38;5;241;43m*\u001b[39;49m\u001b[43mkwargs\u001b[49m\u001b[43m)\u001b[49m\n\u001b[1;32m   1195\u001b[0m \u001b[38;5;66;03m# Do not call functions when jit is used\u001b[39;00m\n\u001b[1;32m   1196\u001b[0m full_backward_hooks, non_full_backward_hooks \u001b[38;5;241m=\u001b[39m [], []\n",
      "File \u001b[0;32m~/anaconda3/envs/ML/lib/python3.9/site-packages/torch/nn/modules/container.py:204\u001b[0m, in \u001b[0;36mSequential.forward\u001b[0;34m(self, input)\u001b[0m\n\u001b[1;32m    202\u001b[0m \u001b[38;5;28;01mdef\u001b[39;00m \u001b[38;5;21mforward\u001b[39m(\u001b[38;5;28mself\u001b[39m, \u001b[38;5;28minput\u001b[39m):\n\u001b[1;32m    203\u001b[0m     \u001b[38;5;28;01mfor\u001b[39;00m module \u001b[38;5;129;01min\u001b[39;00m \u001b[38;5;28mself\u001b[39m:\n\u001b[0;32m--> 204\u001b[0m         \u001b[38;5;28minput\u001b[39m \u001b[38;5;241m=\u001b[39m \u001b[43mmodule\u001b[49m\u001b[43m(\u001b[49m\u001b[38;5;28;43minput\u001b[39;49m\u001b[43m)\u001b[49m\n\u001b[1;32m    205\u001b[0m     \u001b[38;5;28;01mreturn\u001b[39;00m \u001b[38;5;28minput\u001b[39m\n",
      "File \u001b[0;32m~/anaconda3/envs/ML/lib/python3.9/site-packages/torch/nn/modules/module.py:1194\u001b[0m, in \u001b[0;36mModule._call_impl\u001b[0;34m(self, *input, **kwargs)\u001b[0m\n\u001b[1;32m   1190\u001b[0m \u001b[38;5;66;03m# If we don't have any hooks, we want to skip the rest of the logic in\u001b[39;00m\n\u001b[1;32m   1191\u001b[0m \u001b[38;5;66;03m# this function, and just call forward.\u001b[39;00m\n\u001b[1;32m   1192\u001b[0m \u001b[38;5;28;01mif\u001b[39;00m \u001b[38;5;129;01mnot\u001b[39;00m (\u001b[38;5;28mself\u001b[39m\u001b[38;5;241m.\u001b[39m_backward_hooks \u001b[38;5;129;01mor\u001b[39;00m \u001b[38;5;28mself\u001b[39m\u001b[38;5;241m.\u001b[39m_forward_hooks \u001b[38;5;129;01mor\u001b[39;00m \u001b[38;5;28mself\u001b[39m\u001b[38;5;241m.\u001b[39m_forward_pre_hooks \u001b[38;5;129;01mor\u001b[39;00m _global_backward_hooks\n\u001b[1;32m   1193\u001b[0m         \u001b[38;5;129;01mor\u001b[39;00m _global_forward_hooks \u001b[38;5;129;01mor\u001b[39;00m _global_forward_pre_hooks):\n\u001b[0;32m-> 1194\u001b[0m     \u001b[38;5;28;01mreturn\u001b[39;00m \u001b[43mforward_call\u001b[49m\u001b[43m(\u001b[49m\u001b[38;5;241;43m*\u001b[39;49m\u001b[38;5;28;43minput\u001b[39;49m\u001b[43m,\u001b[49m\u001b[43m \u001b[49m\u001b[38;5;241;43m*\u001b[39;49m\u001b[38;5;241;43m*\u001b[39;49m\u001b[43mkwargs\u001b[49m\u001b[43m)\u001b[49m\n\u001b[1;32m   1195\u001b[0m \u001b[38;5;66;03m# Do not call functions when jit is used\u001b[39;00m\n\u001b[1;32m   1196\u001b[0m full_backward_hooks, non_full_backward_hooks \u001b[38;5;241m=\u001b[39m [], []\n",
      "Cell \u001b[0;32mIn[6], line 31\u001b[0m, in \u001b[0;36mFeatureExtractor.forward\u001b[0;34m(self, x)\u001b[0m\n\u001b[1;32m     29\u001b[0m \u001b[38;5;28;01mfor\u001b[39;00m layer \u001b[38;5;129;01min\u001b[39;00m \u001b[38;5;28mself\u001b[39m\u001b[38;5;241m.\u001b[39mlayers[:\u001b[38;5;241m-\u001b[39m\u001b[38;5;241m1\u001b[39m]:\n\u001b[1;32m     30\u001b[0m     \u001b[38;5;28;01mif\u001b[39;00m \u001b[38;5;28misinstance\u001b[39m(layer, Conv2d):\n\u001b[0;32m---> 31\u001b[0m         x \u001b[38;5;241m=\u001b[39m \u001b[43mF\u001b[49m\u001b[38;5;241;43m.\u001b[39;49m\u001b[43mrelu\u001b[49m\u001b[43m(\u001b[49m\u001b[43mlayer\u001b[49m\u001b[43m(\u001b[49m\u001b[43mx\u001b[49m\u001b[43m)\u001b[49m\u001b[43m)\u001b[49m\n\u001b[1;32m     32\u001b[0m     \u001b[38;5;28;01melif\u001b[39;00m \u001b[38;5;28misinstance\u001b[39m(layer, BatchNorm2d):\n\u001b[1;32m     33\u001b[0m         x \u001b[38;5;241m=\u001b[39m layer(x)\n",
      "File \u001b[0;32m~/anaconda3/envs/ML/lib/python3.9/site-packages/torch/nn/functional.py:1457\u001b[0m, in \u001b[0;36mrelu\u001b[0;34m(input, inplace)\u001b[0m\n\u001b[1;32m   1455\u001b[0m     result \u001b[38;5;241m=\u001b[39m torch\u001b[38;5;241m.\u001b[39mrelu_(\u001b[38;5;28minput\u001b[39m)\n\u001b[1;32m   1456\u001b[0m \u001b[38;5;28;01melse\u001b[39;00m:\n\u001b[0;32m-> 1457\u001b[0m     result \u001b[38;5;241m=\u001b[39m \u001b[43mtorch\u001b[49m\u001b[38;5;241;43m.\u001b[39;49m\u001b[43mrelu\u001b[49m\u001b[43m(\u001b[49m\u001b[38;5;28;43minput\u001b[39;49m\u001b[43m)\u001b[49m\n\u001b[1;32m   1458\u001b[0m \u001b[38;5;28;01mreturn\u001b[39;00m result\n",
      "\u001b[0;31mOutOfMemoryError\u001b[0m: CUDA out of memory. Tried to allocate 308.00 MiB (GPU 0; 23.68 GiB total capacity; 18.36 GiB already allocated; 307.81 MiB free; 19.79 GiB reserved in total by PyTorch) If reserved memory is >> allocated memory try setting max_split_size_mb to avoid fragmentation.  See documentation for Memory Management and PYTORCH_CUDA_ALLOC_CONF"
     ]
    }
   ],
   "source": [
    "torch.cuda.empty_cache()\n",
    "train_data_loader, valid_data_loader, test_data_loader = create_data_set(True)\n",
    "\n",
    "VGG19_BDA = create_vgg19_model(is_batch=True, is_dropout= True)\n",
    "details = create_model_details(VGG19_BDA, 100, lr=1e-3)\n",
    "result = train_model(details, \"VGG19_BDA\")\n",
    "show_result(result, \"VGG19_BDA\")"
   ]
  },
  {
   "cell_type": "code",
   "execution_count": 20,
   "id": "6dcef50e",
   "metadata": {},
   "outputs": [
    {
     "name": "stderr",
     "output_type": "stream",
     "text": [
      "100%|███████████████████████████████████████████| 10/10 [00:28<00:00,  2.85s/it]\n",
      "No artists with labels found to put in legend.  Note that artists whose label start with an underscore are ignored when legend() is called with no argument.\n"
     ]
    },
    {
     "data": {
      "image/png": "[encoded data removed]",
      "text/plain": [
       "<Figure size 640x480 with 2 Axes>"
      ]
     },
     "metadata": {},
     "output_type": "display_data"
    },
    {
     "name": "stdout",
     "output_type": "stream",
     "text": [
      "train acc: 95.7\n",
      "valid acc: 80.57\n",
      "test acc: 87.4\n"
     ]
    }
   ],
   "source": [
    "result['model'].cpu()\n",
    "show_result(result, \"VGG19_BDA\")"
   ]
  }
 ],
 "metadata": {
  "kernelspec": {
   "display_name": "Python 3 (ipykernel)",
   "language": "python",
   "name": "python3"
  },
  "language_info": {
   "codemirror_mode": {
    "name": "ipython",
    "version": 3
   },
   "file_extension": ".py",
   "mimetype": "text/x-python",
   "name": "python",
   "nbconvert_exporter": "python",
   "pygments_lexer": "ipython3",
   "version": "3.9.15"
  }
 },
 "nbformat": 4,
 "nbformat_minor": 5
}
